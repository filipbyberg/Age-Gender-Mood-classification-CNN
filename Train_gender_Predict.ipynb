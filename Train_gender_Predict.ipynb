{
  "nbformat": 4,
  "nbformat_minor": 0,
  "metadata": {
    "colab": {
      "provenance": [],
      "include_colab_link": true
    },
    "kernelspec": {
      "name": "python3",
      "display_name": "Python 3"
    },
    "language_info": {
      "name": "python"
    }
  },
  "cells": [
    {
      "cell_type": "markdown",
      "metadata": {
        "id": "view-in-github",
        "colab_type": "text"
      },
      "source": [
        "<a href=\"https://colab.research.google.com/github/filipbyberg/Age-Gender-Mood-classification-CNN/blob/main/Train_gender_Predict.ipynb\" target=\"_parent\"><img src=\"https://colab.research.google.com/assets/colab-badge.svg\" alt=\"Open In Colab\"/></a>"
      ]
    },
    {
      "cell_type": "markdown",
      "source": [
        "# Plan\n",
        "\n",
        "- UTK Face Dataset images have labels embedded in their name, as per the following nomenclature:\n",
        "\n",
        "  - [age]_[gender]_[race]_[time].jpg\n",
        "\n",
        "- Import Gender Dataset from Drive and read gender labels from file name\n",
        "- Convert all images to grayscale\n",
        "- Using 20 epochs on our defined CNN Architecture, comprising of:\n",
        "  - an input Conv2D layer (with 32 filters) paired with an MaxPooling2D layer,\n",
        "  - 3 pairs of Conv2D (with 64, 128 & 256 filters) and MaxPooling2D layers,\n",
        "  - 1 Dense layer with 128 nodes, and\n",
        "  - an output Dense layer with 3 nodes"
      ],
      "metadata": {
        "id": "SI4lYNTqVtZV"
      }
    },
    {
      "cell_type": "markdown",
      "source": [
        "# Mount Google Drive"
      ],
      "metadata": {
        "id": "up55-4VuWSax"
      }
    },
    {
      "cell_type": "code",
      "source": [
        "from google.colab import drive\n",
        "drive.mount('/content/drive')"
      ],
      "metadata": {
        "id": "BMtJLjerWX2C",
        "colab": {
          "base_uri": "https://localhost:8080/"
        },
        "outputId": "e2260351-7deb-49bd-b1f8-4fb6b2c5ff49"
      },
      "execution_count": null,
      "outputs": [
        {
          "output_type": "stream",
          "name": "stdout",
          "text": [
            "Mounted at /content/drive\n"
          ]
        }
      ]
    },
    {
      "cell_type": "code",
      "source": [
        "%cd /content/drive/My Drive/Machine_learning_Project/Input_Output_Gender\n",
        "! ls"
      ],
      "metadata": {
        "id": "Ua4b71KvWaYx",
        "colab": {
          "base_uri": "https://localhost:8080/"
        },
        "outputId": "4ad549a6-f20f-4f7e-f0ac-4c29b9804aeb"
      },
      "execution_count": null,
      "outputs": [
        {
          "output_type": "stream",
          "name": "stdout",
          "text": [
            "/content/drive/My Drive/Machine_learning_Project/Input_Output_Gender\n",
            "Input  Output\n"
          ]
        }
      ]
    },
    {
      "cell_type": "markdown",
      "source": [
        "# Import Libraries/ Functions"
      ],
      "metadata": {
        "id": "JdLDgXnBWoBs"
      }
    },
    {
      "cell_type": "markdown",
      "source": [
        "All essential libraries and functions to be used in the project have been imported."
      ],
      "metadata": {
        "id": "gy-s6M50nVaO"
      }
    },
    {
      "cell_type": "code",
      "source": [
        "import pandas as pd\n",
        "import numpy as np\n",
        "\n",
        "import matplotlib.pyplot as plt\n",
        "import cv2\n",
        "import os\n",
        "\n",
        "import tensorflow as tf\n",
        "\n",
        "from google.colab.patches import cv2_imshow\n",
        "import matplotlib.pyplot as plt\n",
        "\n",
        "from keras.models import Sequential,load_model,Model\n",
        "from keras.layers import Conv2D,MaxPooling2D,AvgPool2D,GlobalAveragePooling2D,Dense,Dropout,BatchNormalization,Flatten,Input\n",
        "from sklearn.model_selection import train_test_split\n",
        "\n",
        "\n",
        "from tensorflow.keras.layers import Input,Activation,Add\n",
        "from tensorflow.keras.regularizers import l2\n",
        "from tensorflow.keras.optimizers import Adam\n",
        "from tensorflow.keras.callbacks import ModelCheckpoint"
      ],
      "metadata": {
        "id": "_JJsCuEDWsYM"
      },
      "execution_count": null,
      "outputs": []
    },
    {
      "cell_type": "markdown",
      "source": [
        "# Import Dataset"
      ],
      "metadata": {
        "id": "lxmiaFt_WvcK"
      }
    },
    {
      "cell_type": "markdown",
      "source": [
        "Importing Gender Dataset from Drive."
      ],
      "metadata": {
        "id": "SLVsTVX8niaw"
      }
    },
    {
      "cell_type": "code",
      "source": [
        "path = \"./Input/UTKFace\"\n",
        "pixels = []\n",
        "age = []\n",
        "gender = []\n",
        "\n",
        "i=0\n",
        "for img in os.listdir(path):\n",
        "  i=i+1\n",
        "  genders = img.split(\"_\")[1]\n",
        "  img = cv2.imread(str(path)+\"/\"+str(img))\n",
        "  img = cv2.cvtColor(img,cv2.COLOR_BGR2GRAY)\n",
        "  img=cv2.resize(img,(100,100))\n",
        "  pixels.append(np.array(img))\n",
        "  gender.append(np.array(genders))\n",
        "\n",
        "pixels = np.array(pixels)\n",
        "gender = np.array(gender,np.uint64)"
      ],
      "metadata": {
        "id": "tJP5COxJWsZt"
      },
      "execution_count": null,
      "outputs": []
    },
    {
      "cell_type": "code",
      "source": [
        "len(pixels)"
      ],
      "metadata": {
        "id": "4Tyd_84ZW-A-",
        "colab": {
          "base_uri": "https://localhost:8080/"
        },
        "outputId": "4ee96181-5beb-41fb-c5a4-49349df2fb87"
      },
      "execution_count": null,
      "outputs": [
        {
          "output_type": "execute_result",
          "data": {
            "text/plain": [
              "23726"
            ]
          },
          "metadata": {},
          "execution_count": 5
        }
      ]
    },
    {
      "cell_type": "code",
      "source": [
        "len(gender)"
      ],
      "metadata": {
        "id": "WxTzTC79XCEq",
        "colab": {
          "base_uri": "https://localhost:8080/"
        },
        "outputId": "382e0240-b898-424b-b768-3989399ca0db"
      },
      "execution_count": null,
      "outputs": [
        {
          "output_type": "execute_result",
          "data": {
            "text/plain": [
              "23726"
            ]
          },
          "metadata": {},
          "execution_count": 6
        }
      ]
    },
    {
      "cell_type": "markdown",
      "source": [
        "# Split into Train/ Test"
      ],
      "metadata": {
        "id": "PFGnT6gyXELu"
      }
    },
    {
      "cell_type": "markdown",
      "source": [
        "The dataset is divided into two as 75% training and 25% testing."
      ],
      "metadata": {
        "id": "WCpjuqVHoArz"
      }
    },
    {
      "cell_type": "code",
      "source": [
        "x_train,x_test,y_train,y_test = train_test_split(pixels,gender,random_state=100)"
      ],
      "metadata": {
        "id": "DZAV4lXhXF2e"
      },
      "execution_count": null,
      "outputs": []
    },
    {
      "cell_type": "code",
      "source": [
        "len(x_train)"
      ],
      "metadata": {
        "id": "Jt9wBa3_XJwY",
        "colab": {
          "base_uri": "https://localhost:8080/"
        },
        "outputId": "5683633c-e272-4279-e94d-de09756e8ad6"
      },
      "execution_count": null,
      "outputs": [
        {
          "output_type": "execute_result",
          "data": {
            "text/plain": [
              "17794"
            ]
          },
          "metadata": {},
          "execution_count": 8
        }
      ]
    },
    {
      "cell_type": "code",
      "source": [
        "len(x_test)"
      ],
      "metadata": {
        "id": "-V2jnqP_XM9o",
        "colab": {
          "base_uri": "https://localhost:8080/"
        },
        "outputId": "6ab43853-43d5-4eb6-cd56-eaeaaf9310bf"
      },
      "execution_count": null,
      "outputs": [
        {
          "output_type": "execute_result",
          "data": {
            "text/plain": [
              "5932"
            ]
          },
          "metadata": {},
          "execution_count": 9
        }
      ]
    },
    {
      "cell_type": "markdown",
      "source": [
        "# Define CNN Architecture"
      ],
      "metadata": {
        "id": "DLcHcCEVXQKi"
      }
    },
    {
      "cell_type": "markdown",
      "source": [
        "(#1) An input Conv2D layer (with 32 filters) paired with an MaxPooling2D layer,"
      ],
      "metadata": {
        "id": "yg3wj3Nnoo-A"
      }
    },
    {
      "cell_type": "markdown",
      "source": [
        "(#2) 3 pairs of Conv2D (with 64, 128 & 256 filters) and MaxPooling2D layers,"
      ],
      "metadata": {
        "id": "y_krf-gYpDjg"
      }
    },
    {
      "cell_type": "markdown",
      "source": [
        "(#3) 1 Dense layer with 128 nodes,"
      ],
      "metadata": {
        "id": "zHWnWXLzpEeF"
      }
    },
    {
      "cell_type": "markdown",
      "source": [
        "(#4) An output Dense layer with 3 nodes"
      ],
      "metadata": {
        "id": "H4gmKxekpQCa"
      }
    },
    {
      "cell_type": "code",
      "source": [
        "input = Input(shape = (100,100,1))\n",
        "\n",
        "#1\n",
        "conv1 = Conv2D(32,(3, 3), padding = 'same', strides=(1, 1), kernel_regularizer=l2(0.001))(input)\n",
        "conv1 = Dropout(0.1)(conv1)\n",
        "conv1 = Activation('relu')(conv1)\n",
        "pool1 = MaxPooling2D(pool_size = (2,2)) (conv1)\n",
        "\n",
        "#2\n",
        "conv2 = Conv2D(64,(3, 3), padding = 'same', strides=(1, 1), kernel_regularizer=l2(0.001))(pool1)\n",
        "conv2 = Dropout(0.1)(conv2)\n",
        "conv2 = Activation('relu')(conv2)\n",
        "pool2 = MaxPooling2D(pool_size = (2,2)) (conv2)\n",
        "\n",
        "conv3 = Conv2D(128,(3, 3), padding = 'same', strides=(1, 1), kernel_regularizer=l2(0.001))(pool2)\n",
        "conv3 = Dropout(0.1)(conv3)\n",
        "conv3 = Activation('relu')(conv3)\n",
        "pool3 = MaxPooling2D(pool_size = (2,2)) (conv3)\n",
        "\n",
        "conv4 = Conv2D(256,(3, 3), padding = 'same', strides=(1, 1), kernel_regularizer=l2(0.001))(pool3)\n",
        "conv4 = Dropout(0.1)(conv4)\n",
        "conv4 = Activation('relu')(conv4)\n",
        "pool4 = MaxPooling2D(pool_size = (2,2)) (conv4)\n",
        "\n",
        "flatten = Flatten()(pool4)\n",
        "\n",
        "#3\n",
        "dense_1 = Dense(128,activation='relu')(flatten)\n",
        "\n",
        "drop_1 = Dropout(0.2)(dense_1)\n",
        "\n",
        "#4\n",
        "output = Dense(2,activation=\"sigmoid\")(drop_1)"
      ],
      "metadata": {
        "id": "iIWLMExiXS79"
      },
      "execution_count": null,
      "outputs": []
    },
    {
      "cell_type": "code",
      "source": [
        "model = Model(inputs=input,outputs=output)\n",
        "model.compile(optimizer=\"adam\",loss=[\"sparse_categorical_crossentropy\"],metrics=['accuracy'])\n",
        "model.summary()"
      ],
      "metadata": {
        "id": "xtn6Kwf7XjPJ",
        "colab": {
          "base_uri": "https://localhost:8080/"
        },
        "outputId": "b2d574b5-39c2-4242-e73e-67087e4badcd"
      },
      "execution_count": null,
      "outputs": [
        {
          "output_type": "stream",
          "name": "stdout",
          "text": [
            "Model: \"model\"\n",
            "_________________________________________________________________\n",
            " Layer (type)                Output Shape              Param #   \n",
            "=================================================================\n",
            " input_1 (InputLayer)        [(None, 100, 100, 1)]     0         \n",
            "                                                                 \n",
            " conv2d (Conv2D)             (None, 100, 100, 32)      320       \n",
            "                                                                 \n",
            " dropout (Dropout)           (None, 100, 100, 32)      0         \n",
            "                                                                 \n",
            " activation (Activation)     (None, 100, 100, 32)      0         \n",
            "                                                                 \n",
            " max_pooling2d (MaxPooling2D  (None, 50, 50, 32)       0         \n",
            " )                                                               \n",
            "                                                                 \n",
            " conv2d_1 (Conv2D)           (None, 50, 50, 64)        18496     \n",
            "                                                                 \n",
            " dropout_1 (Dropout)         (None, 50, 50, 64)        0         \n",
            "                                                                 \n",
            " activation_1 (Activation)   (None, 50, 50, 64)        0         \n",
            "                                                                 \n",
            " max_pooling2d_1 (MaxPooling  (None, 25, 25, 64)       0         \n",
            " 2D)                                                             \n",
            "                                                                 \n",
            " conv2d_2 (Conv2D)           (None, 25, 25, 128)       73856     \n",
            "                                                                 \n",
            " dropout_2 (Dropout)         (None, 25, 25, 128)       0         \n",
            "                                                                 \n",
            " activation_2 (Activation)   (None, 25, 25, 128)       0         \n",
            "                                                                 \n",
            " max_pooling2d_2 (MaxPooling  (None, 12, 12, 128)      0         \n",
            " 2D)                                                             \n",
            "                                                                 \n",
            " conv2d_3 (Conv2D)           (None, 12, 12, 256)       295168    \n",
            "                                                                 \n",
            " dropout_3 (Dropout)         (None, 12, 12, 256)       0         \n",
            "                                                                 \n",
            " activation_3 (Activation)   (None, 12, 12, 256)       0         \n",
            "                                                                 \n",
            " max_pooling2d_3 (MaxPooling  (None, 6, 6, 256)        0         \n",
            " 2D)                                                             \n",
            "                                                                 \n",
            " flatten (Flatten)           (None, 9216)              0         \n",
            "                                                                 \n",
            " dense (Dense)               (None, 128)               1179776   \n",
            "                                                                 \n",
            " dropout_4 (Dropout)         (None, 128)               0         \n",
            "                                                                 \n",
            " dense_1 (Dense)             (None, 2)                 258       \n",
            "                                                                 \n",
            "=================================================================\n",
            "Total params: 1,567,874\n",
            "Trainable params: 1,567,874\n",
            "Non-trainable params: 0\n",
            "_________________________________________________________________\n"
          ]
        }
      ]
    },
    {
      "cell_type": "code",
      "source": [
        "model_path='./Output/gender_model.h5'\n",
        "checkpoints = ModelCheckpoint(model_path, monitor='loss',verbose=1,save_best_only=True,\n",
        "                               save_weights_only=False, mode='auto',save_freq='epoch')\n",
        "callback_list=[checkpoints]"
      ],
      "metadata": {
        "id": "nVhUw9BKXnEV"
      },
      "execution_count": null,
      "outputs": []
    },
    {
      "cell_type": "markdown",
      "source": [
        "# Model Training"
      ],
      "metadata": {
        "id": "eiZvyXVMXr5R"
      }
    },
    {
      "cell_type": "markdown",
      "source": [
        "Training the model with 20 Epochs."
      ],
      "metadata": {
        "id": "oBNbqfL0puEA"
      }
    },
    {
      "cell_type": "code",
      "source": [
        "save = model.fit(x_train,y_train,validation_data=(x_test,y_test),epochs=20,callbacks=[callback_list])"
      ],
      "metadata": {
        "id": "XdW_EXGjXy_O",
        "colab": {
          "base_uri": "https://localhost:8080/"
        },
        "outputId": "1e840f9b-9bb6-44d0-d1f5-6d765e1e6fea"
      },
      "execution_count": null,
      "outputs": [
        {
          "output_type": "stream",
          "name": "stdout",
          "text": [
            "Epoch 1/20\n",
            "557/557 [==============================] - ETA: 0s - loss: 1.2442 - accuracy: 0.7802\n",
            "Epoch 1: loss improved from inf to 1.24422, saving model to ./Output/gender_model.h5\n",
            "557/557 [==============================] - 540s 964ms/step - loss: 1.2442 - accuracy: 0.7802 - val_loss: 0.5184 - val_accuracy: 0.8522\n",
            "Epoch 2/20\n",
            "557/557 [==============================] - ETA: 0s - loss: 0.5056 - accuracy: 0.8546\n",
            "Epoch 2: loss improved from 1.24422 to 0.50557, saving model to ./Output/gender_model.h5\n",
            "557/557 [==============================] - 533s 958ms/step - loss: 0.5056 - accuracy: 0.8546 - val_loss: 0.4670 - val_accuracy: 0.8557\n",
            "Epoch 3/20\n",
            "557/557 [==============================] - ETA: 0s - loss: 0.4544 - accuracy: 0.8646\n",
            "Epoch 3: loss improved from 0.50557 to 0.45442, saving model to ./Output/gender_model.h5\n",
            "557/557 [==============================] - 534s 959ms/step - loss: 0.4544 - accuracy: 0.8646 - val_loss: 0.4742 - val_accuracy: 0.8451\n",
            "Epoch 4/20\n",
            "557/557 [==============================] - ETA: 0s - loss: 0.4168 - accuracy: 0.8764\n",
            "Epoch 4: loss improved from 0.45442 to 0.41676, saving model to ./Output/gender_model.h5\n",
            "557/557 [==============================] - 533s 957ms/step - loss: 0.4168 - accuracy: 0.8764 - val_loss: 0.3993 - val_accuracy: 0.8774\n",
            "Epoch 5/20\n",
            "557/557 [==============================] - ETA: 0s - loss: 0.3903 - accuracy: 0.8819\n",
            "Epoch 5: loss improved from 0.41676 to 0.39030, saving model to ./Output/gender_model.h5\n",
            "557/557 [==============================] - 534s 959ms/step - loss: 0.3903 - accuracy: 0.8819 - val_loss: 0.3671 - val_accuracy: 0.8865\n",
            "Epoch 6/20\n",
            "557/557 [==============================] - ETA: 0s - loss: 0.3694 - accuracy: 0.8862\n",
            "Epoch 6: loss improved from 0.39030 to 0.36943, saving model to ./Output/gender_model.h5\n",
            "557/557 [==============================] - 534s 959ms/step - loss: 0.3694 - accuracy: 0.8862 - val_loss: 0.3705 - val_accuracy: 0.8845\n",
            "Epoch 7/20\n",
            "557/557 [==============================] - ETA: 0s - loss: 0.3484 - accuracy: 0.8927\n",
            "Epoch 7: loss improved from 0.36943 to 0.34842, saving model to ./Output/gender_model.h5\n",
            "557/557 [==============================] - 537s 965ms/step - loss: 0.3484 - accuracy: 0.8927 - val_loss: 0.3668 - val_accuracy: 0.8744\n",
            "Epoch 8/20\n",
            "557/557 [==============================] - ETA: 0s - loss: 0.3364 - accuracy: 0.8920\n",
            "Epoch 8: loss improved from 0.34842 to 0.33640, saving model to ./Output/gender_model.h5\n",
            "557/557 [==============================] - 538s 967ms/step - loss: 0.3364 - accuracy: 0.8920 - val_loss: 0.3496 - val_accuracy: 0.8854\n",
            "Epoch 9/20\n",
            "557/557 [==============================] - ETA: 0s - loss: 0.3192 - accuracy: 0.8964\n",
            "Epoch 9: loss improved from 0.33640 to 0.31918, saving model to ./Output/gender_model.h5\n",
            "557/557 [==============================] - 539s 969ms/step - loss: 0.3192 - accuracy: 0.8964 - val_loss: 0.3381 - val_accuracy: 0.8891\n",
            "Epoch 10/20\n",
            "557/557 [==============================] - ETA: 0s - loss: 0.3086 - accuracy: 0.9040\n",
            "Epoch 10: loss improved from 0.31918 to 0.30859, saving model to ./Output/gender_model.h5\n",
            "557/557 [==============================] - 536s 962ms/step - loss: 0.3086 - accuracy: 0.9040 - val_loss: 0.3331 - val_accuracy: 0.8823\n",
            "Epoch 11/20\n",
            "557/557 [==============================] - ETA: 0s - loss: 0.2953 - accuracy: 0.9045\n",
            "Epoch 11: loss improved from 0.30859 to 0.29533, saving model to ./Output/gender_model.h5\n",
            "557/557 [==============================] - 534s 959ms/step - loss: 0.2953 - accuracy: 0.9045 - val_loss: 0.3343 - val_accuracy: 0.8886\n",
            "Epoch 12/20\n",
            "557/557 [==============================] - ETA: 0s - loss: 0.2973 - accuracy: 0.9043\n",
            "Epoch 12: loss did not improve from 0.29533\n",
            "557/557 [==============================] - 534s 960ms/step - loss: 0.2973 - accuracy: 0.9043 - val_loss: 0.3208 - val_accuracy: 0.8901\n",
            "Epoch 13/20\n",
            "557/557 [==============================] - ETA: 0s - loss: 0.2809 - accuracy: 0.9124\n",
            "Epoch 13: loss improved from 0.29533 to 0.28086, saving model to ./Output/gender_model.h5\n",
            "557/557 [==============================] - 531s 953ms/step - loss: 0.2809 - accuracy: 0.9124 - val_loss: 0.3242 - val_accuracy: 0.8913\n",
            "Epoch 14/20\n",
            "557/557 [==============================] - ETA: 0s - loss: 0.2779 - accuracy: 0.9099\n",
            "Epoch 14: loss improved from 0.28086 to 0.27785, saving model to ./Output/gender_model.h5\n",
            "557/557 [==============================] - 532s 955ms/step - loss: 0.2779 - accuracy: 0.9099 - val_loss: 0.3342 - val_accuracy: 0.8739\n",
            "Epoch 15/20\n",
            "557/557 [==============================] - ETA: 0s - loss: 0.2824 - accuracy: 0.9072\n",
            "Epoch 15: loss did not improve from 0.27785\n",
            "557/557 [==============================] - 535s 961ms/step - loss: 0.2824 - accuracy: 0.9072 - val_loss: 0.3156 - val_accuracy: 0.8930\n",
            "Epoch 16/20\n",
            "557/557 [==============================] - ETA: 0s - loss: 0.2748 - accuracy: 0.9129\n",
            "Epoch 16: loss improved from 0.27785 to 0.27478, saving model to ./Output/gender_model.h5\n",
            "557/557 [==============================] - 530s 952ms/step - loss: 0.2748 - accuracy: 0.9129 - val_loss: 0.3212 - val_accuracy: 0.8955\n",
            "Epoch 17/20\n",
            "557/557 [==============================] - ETA: 0s - loss: 0.2588 - accuracy: 0.9191\n",
            "Epoch 17: loss improved from 0.27478 to 0.25884, saving model to ./Output/gender_model.h5\n",
            "557/557 [==============================] - 531s 953ms/step - loss: 0.2588 - accuracy: 0.9191 - val_loss: 0.3002 - val_accuracy: 0.8928\n",
            "Epoch 18/20\n",
            "557/557 [==============================] - ETA: 0s - loss: 0.2571 - accuracy: 0.9146\n",
            "Epoch 18: loss improved from 0.25884 to 0.25714, saving model to ./Output/gender_model.h5\n",
            "557/557 [==============================] - 533s 957ms/step - loss: 0.2571 - accuracy: 0.9146 - val_loss: 0.3078 - val_accuracy: 0.8933\n",
            "Epoch 19/20\n",
            "557/557 [==============================] - ETA: 0s - loss: 0.2565 - accuracy: 0.9205\n",
            "Epoch 19: loss improved from 0.25714 to 0.25653, saving model to ./Output/gender_model.h5\n",
            "557/557 [==============================] - 531s 954ms/step - loss: 0.2565 - accuracy: 0.9205 - val_loss: 0.3091 - val_accuracy: 0.8941\n",
            "Epoch 20/20\n",
            "557/557 [==============================] - ETA: 0s - loss: 0.2498 - accuracy: 0.9237\n",
            "Epoch 20: loss improved from 0.25653 to 0.24978, saving model to ./Output/gender_model.h5\n",
            "557/557 [==============================] - 530s 951ms/step - loss: 0.2498 - accuracy: 0.9237 - val_loss: 0.3150 - val_accuracy: 0.8940\n"
          ]
        }
      ]
    },
    {
      "cell_type": "markdown",
      "source": [
        "Checking the train and test loss and accuracy values from the neural network above."
      ],
      "metadata": {
        "id": "nVBAPZJjFf5N"
      }
    },
    {
      "cell_type": "code",
      "source": [
        "train_loss = save.history['loss']\n",
        "test_loss = save.history['val_loss']\n",
        "train_accuracy = save.history['accuracy']\n",
        "test_accuracy = save.history['val_accuracy']"
      ],
      "metadata": {
        "id": "sx0JsurrX2nY"
      },
      "execution_count": null,
      "outputs": []
    },
    {
      "cell_type": "markdown",
      "source": [
        "Plotting a line chart to visualize the loss and accuracy values by epochs."
      ],
      "metadata": {
        "id": "qbBSiar6Fa4U"
      }
    },
    {
      "cell_type": "code",
      "source": [
        "fig, ax = plt.subplots(ncols=2, figsize=(15,7))\n",
        "\n",
        "ax = ax.ravel()\n",
        "\n",
        "ax[0].plot(train_loss, label='Train Loss', color='royalblue', marker='o', markersize=5)\n",
        "ax[0].plot(test_loss, label='Test Loss', color = 'orangered', marker='o', markersize=5)\n",
        "\n",
        "ax[0].set_xlabel('Epochs', fontsize=14)\n",
        "ax[0].set_ylabel('Categorical Crossentropy', fontsize=14)\n",
        "\n",
        "ax[0].legend(fontsize=14)\n",
        "ax[0].tick_params(axis='both', labelsize=12)\n",
        "\n",
        "ax[1].plot(train_accuracy, label='Train Accuracy', color='royalblue', marker='o', markersize=5)\n",
        "ax[1].plot(test_accuracy, label='Test Accuracy', color='orangered', marker='o', markersize=5)\n",
        "\n",
        "ax[1].set_xlabel('Epochs', fontsize=14)\n",
        "ax[1].set_ylabel('Accuracy', fontsize=14)\n",
        "\n",
        "ax[1].legend(fontsize=14)\n",
        "ax[1].tick_params(axis='both', labelsize=12)\n",
        "\n",
        "fig.suptitle(x=0.5, y=0.92, t=\"Lineplots showing loss and accuracy of CNN model by epochs\", fontsize=16)"
      ],
      "metadata": {
        "id": "YLAiBznlX6LC",
        "colab": {
          "base_uri": "https://localhost:8080/",
          "height": 487
        },
        "outputId": "644364c6-1276-4e63-a0d9-b05fe2f3792f"
      },
      "execution_count": null,
      "outputs": [
        {
          "output_type": "execute_result",
          "data": {
            "text/plain": [
              "Text(0.5, 0.92, 'Lineplots showing loss and accuracy of CNN model by epochs')"
            ]
          },
          "metadata": {},
          "execution_count": 15
        },
        {
          "output_type": "display_data",
          "data": {
            "text/plain": [
              "<Figure size 1080x504 with 2 Axes>"
            ],
            "image/png": "[encoded data removed]"
          },
          "metadata": {
            "needs_background": "light"
          }
        }
      ]
    }
  ]
}