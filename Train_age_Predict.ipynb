{
  "cells": [
    {
      "cell_type": "markdown",
      "metadata": {
        "id": "view-in-github",
        "colab_type": "text"
      },
      "source": [
        "<a href=\"https://colab.research.google.com/github/filipbyberg/Age-Gender-Mood-classification-CNN/blob/main/Train_age_Predict.ipynb\" target=\"_parent\"><img src=\"https://colab.research.google.com/assets/colab-badge.svg\" alt=\"Open In Colab\"/></a>"
      ]
    },
    {
      "cell_type": "markdown",
      "metadata": {
        "id": "sa18a9b-Qgca"
      },
      "source": [
        "# **Plan**\n",
        "\n",
        "**Our age prediction CNN model shall be defined and trained by:**\n",
        "\n",
        "1. Importing training and test datasets from Google Drive Input Sub-folder\n",
        "2. Training dataset is already augmented and has 234,000 images\n",
        "3. Greyscaling images instead of using RGB color images\n",
        "4. Defining our intuitively distributed classes of age-ranges\n",
        "5. Using 20 epochs on our optimized CNN Architecture, comprising of:\n",
        "- an input Conv2D layer (with 32 filters) paired with an AveragePooling2D layer,\n",
        "- 3 pairs of Conv2D (with 64, 128 & 256 filters) and AveragePooling2D layers,\n",
        "- a GlobalAveragePooling2D layer,\n",
        "- 1 Dense layer with 132 nodes, and\n",
        "- an output Dense layer with 7 nodes."
      ]
    },
    {
      "cell_type": "markdown",
      "metadata": {
        "id": "DzKCNQs-RIu5"
      },
      "source": [
        "# Mount Google Drive & Imports"
      ]
    },
    {
      "cell_type": "code",
      "execution_count": null,
      "metadata": {
        "colab": {
          "base_uri": "https://localhost:8080/",
          "height": 363
        },
        "id": "vWfoh0PtRDVa",
        "outputId": "8d62b893-9a81-4b3f-c661-37e6f52a541f"
      },
      "outputs": [
        {
          "output_type": "error",
          "ename": "MessageError",
          "evalue": "ignored",
          "traceback": [
            "\u001b[0;31m---------------------------------------------------------------------------\u001b[0m",
            "\u001b[0;31mMessageError\u001b[0m                              Traceback (most recent call last)",
            "\u001b[0;32m<ipython-input-1-7052ab93b87d>\u001b[0m in \u001b[0;36m<module>\u001b[0;34m\u001b[0m\n\u001b[1;32m      2\u001b[0m \u001b[0;34m\u001b[0m\u001b[0m\n\u001b[1;32m      3\u001b[0m \u001b[0;32mfrom\u001b[0m \u001b[0mgoogle\u001b[0m\u001b[0;34m.\u001b[0m\u001b[0mcolab\u001b[0m \u001b[0;32mimport\u001b[0m \u001b[0mdrive\u001b[0m\u001b[0;34m\u001b[0m\u001b[0;34m\u001b[0m\u001b[0m\n\u001b[0;32m----> 4\u001b[0;31m \u001b[0mdrive\u001b[0m\u001b[0;34m.\u001b[0m\u001b[0mmount\u001b[0m\u001b[0;34m(\u001b[0m\u001b[0;34m'/content/drive'\u001b[0m\u001b[0;34m)\u001b[0m\u001b[0;34m\u001b[0m\u001b[0;34m\u001b[0m\u001b[0m\n\u001b[0m",
            "\u001b[0;32m/usr/local/lib/python3.8/dist-packages/google/colab/drive.py\u001b[0m in \u001b[0;36mmount\u001b[0;34m(mountpoint, force_remount, timeout_ms, readonly)\u001b[0m\n\u001b[1;32m     98\u001b[0m \u001b[0;32mdef\u001b[0m \u001b[0mmount\u001b[0m\u001b[0;34m(\u001b[0m\u001b[0mmountpoint\u001b[0m\u001b[0;34m,\u001b[0m \u001b[0mforce_remount\u001b[0m\u001b[0;34m=\u001b[0m\u001b[0;32mFalse\u001b[0m\u001b[0;34m,\u001b[0m \u001b[0mtimeout_ms\u001b[0m\u001b[0;34m=\u001b[0m\u001b[0;36m120000\u001b[0m\u001b[0;34m,\u001b[0m \u001b[0mreadonly\u001b[0m\u001b[0;34m=\u001b[0m\u001b[0;32mFalse\u001b[0m\u001b[0;34m)\u001b[0m\u001b[0;34m:\u001b[0m\u001b[0;34m\u001b[0m\u001b[0;34m\u001b[0m\u001b[0m\n\u001b[1;32m     99\u001b[0m   \u001b[0;34m\"\"\"Mount your Google Drive at the specified mountpoint path.\"\"\"\u001b[0m\u001b[0;34m\u001b[0m\u001b[0;34m\u001b[0m\u001b[0m\n\u001b[0;32m--> 100\u001b[0;31m   return _mount(\n\u001b[0m\u001b[1;32m    101\u001b[0m       \u001b[0mmountpoint\u001b[0m\u001b[0;34m,\u001b[0m\u001b[0;34m\u001b[0m\u001b[0;34m\u001b[0m\u001b[0m\n\u001b[1;32m    102\u001b[0m       \u001b[0mforce_remount\u001b[0m\u001b[0;34m=\u001b[0m\u001b[0mforce_remount\u001b[0m\u001b[0;34m,\u001b[0m\u001b[0;34m\u001b[0m\u001b[0;34m\u001b[0m\u001b[0m\n",
            "\u001b[0;32m/usr/local/lib/python3.8/dist-packages/google/colab/drive.py\u001b[0m in \u001b[0;36m_mount\u001b[0;34m(mountpoint, force_remount, timeout_ms, ephemeral, readonly)\u001b[0m\n\u001b[1;32m    121\u001b[0m       'TBE_EPHEM_CREDS_ADDR'] if ephemeral else _os.environ['TBE_CREDS_ADDR']\n\u001b[1;32m    122\u001b[0m   \u001b[0;32mif\u001b[0m \u001b[0mephemeral\u001b[0m\u001b[0;34m:\u001b[0m\u001b[0;34m\u001b[0m\u001b[0;34m\u001b[0m\u001b[0m\n\u001b[0;32m--> 123\u001b[0;31m     _message.blocking_request(\n\u001b[0m\u001b[1;32m    124\u001b[0m         'request_auth', request={'authType': 'dfs_ephemeral'}, timeout_sec=None)\n\u001b[1;32m    125\u001b[0m \u001b[0;34m\u001b[0m\u001b[0m\n",
            "\u001b[0;32m/usr/local/lib/python3.8/dist-packages/google/colab/_message.py\u001b[0m in \u001b[0;36mblocking_request\u001b[0;34m(request_type, request, timeout_sec, parent)\u001b[0m\n\u001b[1;32m    169\u001b[0m   request_id = send_request(\n\u001b[1;32m    170\u001b[0m       request_type, request, parent=parent, expect_reply=True)\n\u001b[0;32m--> 171\u001b[0;31m   \u001b[0;32mreturn\u001b[0m \u001b[0mread_reply_from_input\u001b[0m\u001b[0;34m(\u001b[0m\u001b[0mrequest_id\u001b[0m\u001b[0;34m,\u001b[0m \u001b[0mtimeout_sec\u001b[0m\u001b[0;34m)\u001b[0m\u001b[0;34m\u001b[0m\u001b[0;34m\u001b[0m\u001b[0m\n\u001b[0m",
            "\u001b[0;32m/usr/local/lib/python3.8/dist-packages/google/colab/_message.py\u001b[0m in \u001b[0;36mread_reply_from_input\u001b[0;34m(message_id, timeout_sec)\u001b[0m\n\u001b[1;32m    100\u001b[0m         reply.get('colab_msg_id') == message_id):\n\u001b[1;32m    101\u001b[0m       \u001b[0;32mif\u001b[0m \u001b[0;34m'error'\u001b[0m \u001b[0;32min\u001b[0m \u001b[0mreply\u001b[0m\u001b[0;34m:\u001b[0m\u001b[0;34m\u001b[0m\u001b[0;34m\u001b[0m\u001b[0m\n\u001b[0;32m--> 102\u001b[0;31m         \u001b[0;32mraise\u001b[0m \u001b[0mMessageError\u001b[0m\u001b[0;34m(\u001b[0m\u001b[0mreply\u001b[0m\u001b[0;34m[\u001b[0m\u001b[0;34m'error'\u001b[0m\u001b[0;34m]\u001b[0m\u001b[0;34m)\u001b[0m\u001b[0;34m\u001b[0m\u001b[0;34m\u001b[0m\u001b[0m\n\u001b[0m\u001b[1;32m    103\u001b[0m       \u001b[0;32mreturn\u001b[0m \u001b[0mreply\u001b[0m\u001b[0;34m.\u001b[0m\u001b[0mget\u001b[0m\u001b[0;34m(\u001b[0m\u001b[0;34m'data'\u001b[0m\u001b[0;34m,\u001b[0m \u001b[0;32mNone\u001b[0m\u001b[0;34m)\u001b[0m\u001b[0;34m\u001b[0m\u001b[0;34m\u001b[0m\u001b[0m\n\u001b[1;32m    104\u001b[0m \u001b[0;34m\u001b[0m\u001b[0m\n",
            "\u001b[0;31mMessageError\u001b[0m: Error: credential propagation was unsuccessful"
          ]
        }
      ],
      "source": [
        "#@title Mount Google Drive {display-mode: \"form\"}\n",
        "\n",
        "from google.colab import drive\n",
        "drive.mount('/content/drive')"
      ]
    },
    {
      "cell_type": "markdown",
      "source": [
        "All essential libraries and functions to be used in the project have been imported."
      ],
      "metadata": {
        "id": "f5i3z-uo1jnJ"
      }
    },
    {
      "cell_type": "code",
      "execution_count": null,
      "metadata": {
        "id": "HJKIV5XyRQIZ"
      },
      "outputs": [],
      "source": [
        "import pandas as pd\n",
        "import numpy as np\n",
        "import matplotlib.pyplot as plt\n",
        "\n",
        "import cv2\n",
        "import os\n",
        "from zipfile import ZipFile\n",
        "import time\n",
        "from datetime import datetime\n",
        "import itertools\n",
        "\n",
        "from sklearn.model_selection import train_test_split\n",
        "from sklearn.metrics import confusion_matrix\n",
        "\n",
        "import tensorflow as tf\n",
        "from tensorflow.python.keras.models import Sequential\n",
        "from tensorflow.python.keras.layers import Dense\n",
        "from tensorflow.python.keras.layers import Conv2D, AveragePooling2D, GlobalAveragePooling2D\n",
        "from tensorflow.python.keras import utils\n",
        "from tensorflow.python.keras.callbacks import TensorBoard, ModelCheckpoint\n",
        "\n",
        "# Setting random seeds to reduce the amount of randomness in the neural net weights and results\n",
        "# The results may still not be exactly reproducible\n",
        "\n",
        "np.random.seed(42)\n",
        "tf.random.set_seed(42)"
      ]
    },
    {
      "cell_type": "markdown",
      "metadata": {
        "id": "a8MNhIWeRSBb"
      },
      "source": [
        "## Check for GPU\n"
      ]
    },
    {
      "cell_type": "code",
      "execution_count": null,
      "metadata": {
        "colab": {
          "base_uri": "https://localhost:8080/"
        },
        "id": "Pk0Lmkg4RaqS",
        "outputId": "7f434dbf-40cd-4f76-b13c-f4bf6e0c3836"
      },
      "outputs": [
        {
          "output_type": "stream",
          "name": "stdout",
          "text": [
            "Found GPU at: /device:GPU:0\n"
          ]
        }
      ],
      "source": [
        "#@title Check for GPU\n",
        "\n",
        "# Testing to ensure GPU is being utilized\n",
        "\n",
        "device_name = tf.test.gpu_device_name()\n",
        "if device_name != '/device:GPU:0':\n",
        "    raise SystemError('GPU device not found')\n",
        "print('Found GPU at: {}'.format(device_name))"
      ]
    },
    {
      "cell_type": "markdown",
      "metadata": {
        "id": "dOp99kmeRogS"
      },
      "source": [
        "# Data Preparation"
      ]
    },
    {
      "cell_type": "markdown",
      "source": [
        "UTK Faces and Facial Age datasets were combined to build the Age Detection model of the project. With these two datasets combined, there are around 34000 labelled facial images from age 1 to 116 to work with. Although we have about 34000 images, more than that is needed to train a neural network with good accuracy. For this reason, 70% of all data reserved for training has been expanded 10 times with the data augmentation technique."
      ],
      "metadata": {
        "id": "g6FaEMQTeTc1"
      }
    },
    {
      "cell_type": "markdown",
      "metadata": {
        "id": "GsVzS6aaRq8a"
      },
      "source": [
        "## Import Dataset"
      ]
    },
    {
      "cell_type": "markdown",
      "source": [
        "Importing augmented training set and test set along with their labels."
      ],
      "metadata": {
        "id": "UV0zeSdh2oxe"
      }
    },
    {
      "cell_type": "markdown",
      "source": [
        "Unzipping test set."
      ],
      "metadata": {
        "id": "wJfpGNAq2-bx"
      }
    },
    {
      "cell_type": "code",
      "execution_count": null,
      "metadata": {
        "colab": {
          "base_uri": "https://localhost:8080/"
        },
        "id": "IOJr-S_ERuCa",
        "outputId": "a0486e08-6328-46db-9aca-7186353c4604"
      },
      "outputs": [
        {
          "output_type": "stream",
          "name": "stdout",
          "text": [
            "Done unzipping combined_faces.zip\n"
          ]
        }
      ],
      "source": [
        "combined_faces_zip_path = \"/content/drive/MyDrive/Machine_learning_Project/Input_Output_Age/Input/combined_faces.zip\"\n",
        "\n",
        "with ZipFile(combined_faces_zip_path, 'r') as myzip:\n",
        "    myzip.extractall()\n",
        "    print('Done unzipping combined_faces.zip')"
      ]
    },
    {
      "cell_type": "markdown",
      "source": [
        "Unzipping augmented training set."
      ],
      "metadata": {
        "id": "177C2Y1W3BDZ"
      }
    },
    {
      "cell_type": "code",
      "execution_count": null,
      "metadata": {
        "colab": {
          "base_uri": "https://localhost:8080/"
        },
        "id": "c2sV3BkDVO2s",
        "outputId": "91b96a11-1131-4a40-8c84-6197c512ddb4"
      },
      "outputs": [
        {
          "output_type": "stream",
          "name": "stdout",
          "text": [
            "Done unzipping combined_faces_train_augmented.zip\n"
          ]
        }
      ],
      "source": [
        "combined_faces_zip_path = \"/content/drive/MyDrive/Machine_learning_Project/Input_Output_Age/Input/combined_faces_train_augmented.zip\"\n",
        "\n",
        "with ZipFile(combined_faces_zip_path, 'r') as myzip:\n",
        "    myzip.extractall()\n",
        "    print('Done unzipping combined_faces_train_augmented.zip')"
      ]
    },
    {
      "cell_type": "markdown",
      "source": [
        "Reading labels from zip files."
      ],
      "metadata": {
        "id": "h94PmnV53FGU"
      }
    },
    {
      "cell_type": "markdown",
      "source": [
        "Importing the augmented training dataset and testing dataset to create tensors of images using the filename paths."
      ],
      "metadata": {
        "id": "iU3xVei8yP6S"
      }
    },
    {
      "cell_type": "code",
      "execution_count": null,
      "metadata": {
        "id": "_XWzdjYGXSo3"
      },
      "outputs": [],
      "source": [
        "train_aug_set = pd.read_csv(\"/content/drive/MyDrive/Machine_learning_Project/Input_Output_Age/Input/images_filenames_labels_train_augmented.csv\")\n",
        "test_set = pd.read_csv(\"/content/drive/MyDrive/Machine_learning_Project/Input_Output_Age/Input/images_filenames_labels_test.csv\")"
      ]
    },
    {
      "cell_type": "markdown",
      "metadata": {
        "id": "Gy0dm1JzXq71"
      },
      "source": [
        "## Know your Dataset"
      ]
    },
    {
      "cell_type": "code",
      "execution_count": null,
      "metadata": {
        "colab": {
          "base_uri": "https://localhost:8080/",
          "height": 206
        },
        "id": "z__ph-AtXxcT",
        "outputId": "6734ae3d-46a0-4d9d-8300-2dc05872aacf"
      },
      "outputs": [
        {
          "output_type": "execute_result",
          "data": {
            "text/plain": [
              "                                            filename  age\n",
              "0  /content/content/combined_faces_train_augmente...   43\n",
              "1  /content/content/combined_faces_train_augmente...   71\n",
              "2  /content/content/combined_faces_train_augmente...    6\n",
              "3  /content/content/combined_faces_train_augmente...   18\n",
              "4  /content/content/combined_faces_train_augmente...   25"
            ],
            "text/html": [
              "\n",
              "  <div id=\"df-411a78c2-a159-4d0d-b591-effa1fd96532\">\n",
              "    <div class=\"colab-df-container\">\n",
              "      <div>\n",
              "<style scoped>\n",
              "    .dataframe tbody tr th:only-of-type {\n",
              "        vertical-align: middle;\n",
              "    }\n",
              "\n",
              "    .dataframe tbody tr th {\n",
              "        vertical-align: top;\n",
              "    }\n",
              "\n",
              "    .dataframe thead th {\n",
              "        text-align: right;\n",
              "    }\n",
              "</style>\n",
              "<table border=\"1\" class=\"dataframe\">\n",
              "  <thead>\n",
              "    <tr style=\"text-align: right;\">\n",
              "      <th></th>\n",
              "      <th>filename</th>\n",
              "      <th>age</th>\n",
              "    </tr>\n",
              "  </thead>\n",
              "  <tbody>\n",
              "    <tr>\n",
              "      <th>0</th>\n",
              "      <td>/content/content/combined_faces_train_augmente...</td>\n",
              "      <td>43</td>\n",
              "    </tr>\n",
              "    <tr>\n",
              "      <th>1</th>\n",
              "      <td>/content/content/combined_faces_train_augmente...</td>\n",
              "      <td>71</td>\n",
              "    </tr>\n",
              "    <tr>\n",
              "      <th>2</th>\n",
              "      <td>/content/content/combined_faces_train_augmente...</td>\n",
              "      <td>6</td>\n",
              "    </tr>\n",
              "    <tr>\n",
              "      <th>3</th>\n",
              "      <td>/content/content/combined_faces_train_augmente...</td>\n",
              "      <td>18</td>\n",
              "    </tr>\n",
              "    <tr>\n",
              "      <th>4</th>\n",
              "      <td>/content/content/combined_faces_train_augmente...</td>\n",
              "      <td>25</td>\n",
              "    </tr>\n",
              "  </tbody>\n",
              "</table>\n",
              "</div>\n",
              "      <button class=\"colab-df-convert\" onclick=\"convertToInteractive('df-411a78c2-a159-4d0d-b591-effa1fd96532')\"\n",
              "              title=\"Convert this dataframe to an interactive table.\"\n",
              "              style=\"display:none;\">\n",
              "        \n",
              "  <svg xmlns=\"http://www.w3.org/2000/svg\" height=\"24px\"viewBox=\"0 0 24 24\"\n",
              "       width=\"24px\">\n",
              "    <path d=\"M0 0h24v24H0V0z\" fill=\"none\"/>\n",
              "    <path d=\"M18.56 5.44l.94 2.06.94-2.06 2.06-.94-2.06-.94-.94-2.06-.94 2.06-2.06.94zm-11 1L8.5 8.5l.94-2.06 2.06-.94-2.06-.94L8.5 2.5l-.94 2.06-2.06.94zm10 10l.94 2.06.94-2.06 2.06-.94-2.06-.94-.94-2.06-.94 2.06-2.06.94z\"/><path d=\"M17.41 7.96l-1.37-1.37c-.4-.4-.92-.59-1.43-.59-.52 0-1.04.2-1.43.59L10.3 9.45l-7.72 7.72c-.78.78-.78 2.05 0 2.83L4 21.41c.39.39.9.59 1.41.59.51 0 1.02-.2 1.41-.59l7.78-7.78 2.81-2.81c.8-.78.8-2.07 0-2.86zM5.41 20L4 18.59l7.72-7.72 1.47 1.35L5.41 20z\"/>\n",
              "  </svg>\n",
              "      </button>\n",
              "      \n",
              "  <style>\n",
              "    .colab-df-container {\n",
              "      display:flex;\n",
              "      flex-wrap:wrap;\n",
              "      gap: 12px;\n",
              "    }\n",
              "\n",
              "    .colab-df-convert {\n",
              "      background-color: #E8F0FE;\n",
              "      border: none;\n",
              "      border-radius: 50%;\n",
              "      cursor: pointer;\n",
              "      display: none;\n",
              "      fill: #1967D2;\n",
              "      height: 32px;\n",
              "      padding: 0 0 0 0;\n",
              "      width: 32px;\n",
              "    }\n",
              "\n",
              "    .colab-df-convert:hover {\n",
              "      background-color: #E2EBFA;\n",
              "      box-shadow: 0px 1px 2px rgba(60, 64, 67, 0.3), 0px 1px 3px 1px rgba(60, 64, 67, 0.15);\n",
              "      fill: #174EA6;\n",
              "    }\n",
              "\n",
              "    [theme=dark] .colab-df-convert {\n",
              "      background-color: #3B4455;\n",
              "      fill: #D2E3FC;\n",
              "    }\n",
              "\n",
              "    [theme=dark] .colab-df-convert:hover {\n",
              "      background-color: #434B5C;\n",
              "      box-shadow: 0px 1px 3px 1px rgba(0, 0, 0, 0.15);\n",
              "      filter: drop-shadow(0px 1px 2px rgba(0, 0, 0, 0.3));\n",
              "      fill: #FFFFFF;\n",
              "    }\n",
              "  </style>\n",
              "\n",
              "      <script>\n",
              "        const buttonEl =\n",
              "          document.querySelector('#df-411a78c2-a159-4d0d-b591-effa1fd96532 button.colab-df-convert');\n",
              "        buttonEl.style.display =\n",
              "          google.colab.kernel.accessAllowed ? 'block' : 'none';\n",
              "\n",
              "        async function convertToInteractive(key) {\n",
              "          const element = document.querySelector('#df-411a78c2-a159-4d0d-b591-effa1fd96532');\n",
              "          const dataTable =\n",
              "            await google.colab.kernel.invokeFunction('convertToInteractive',\n",
              "                                                     [key], {});\n",
              "          if (!dataTable) return;\n",
              "\n",
              "          const docLinkHtml = 'Like what you see? Visit the ' +\n",
              "            '<a target=\"_blank\" href=https://colab.research.google.com/notebooks/data_table.ipynb>data table notebook</a>'\n",
              "            + ' to learn more about interactive tables.';\n",
              "          element.innerHTML = '';\n",
              "          dataTable['output_type'] = 'display_data';\n",
              "          await google.colab.output.renderOutput(dataTable, element);\n",
              "          const docLink = document.createElement('div');\n",
              "          docLink.innerHTML = docLinkHtml;\n",
              "          element.appendChild(docLink);\n",
              "        }\n",
              "      </script>\n",
              "    </div>\n",
              "  </div>\n",
              "  "
            ]
          },
          "metadata": {},
          "execution_count": 7
        }
      ],
      "source": [
        "train_aug_set.head()"
      ]
    },
    {
      "cell_type": "code",
      "execution_count": null,
      "metadata": {
        "colab": {
          "base_uri": "https://localhost:8080/"
        },
        "id": "JOU-bQ53YAy6",
        "outputId": "80353c00-5560-4a10-a1b6-7a5b1e91846d"
      },
      "outputs": [
        {
          "output_type": "execute_result",
          "data": {
            "text/plain": [
              "(234400, 2)"
            ]
          },
          "metadata": {},
          "execution_count": 8
        }
      ],
      "source": [
        "train_aug_set.shape"
      ]
    },
    {
      "cell_type": "code",
      "execution_count": null,
      "metadata": {
        "colab": {
          "base_uri": "https://localhost:8080/",
          "height": 206
        },
        "id": "wkbRJdbEX4wq",
        "outputId": "e6047472-e012-491b-f4dd-0c7b13286f90"
      },
      "outputs": [
        {
          "output_type": "execute_result",
          "data": {
            "text/plain": [
              "                                     filename  age\n",
              "0   /content/content/combined_faces/8_163.jpg    8\n",
              "1   /content/content/combined_faces/38_66.jpg   38\n",
              "2  /content/content/combined_faces/40_177.jpg   40\n",
              "3  /content/content/combined_faces/36_267.jpg   36\n",
              "4   /content/content/combined_faces/8_349.jpg    8"
            ],
            "text/html": [
              "\n",
              "  <div id=\"df-eec7043b-e786-4caa-bc26-a72d9c68470f\">\n",
              "    <div class=\"colab-df-container\">\n",
              "      <div>\n",
              "<style scoped>\n",
              "    .dataframe tbody tr th:only-of-type {\n",
              "        vertical-align: middle;\n",
              "    }\n",
              "\n",
              "    .dataframe tbody tr th {\n",
              "        vertical-align: top;\n",
              "    }\n",
              "\n",
              "    .dataframe thead th {\n",
              "        text-align: right;\n",
              "    }\n",
              "</style>\n",
              "<table border=\"1\" class=\"dataframe\">\n",
              "  <thead>\n",
              "    <tr style=\"text-align: right;\">\n",
              "      <th></th>\n",
              "      <th>filename</th>\n",
              "      <th>age</th>\n",
              "    </tr>\n",
              "  </thead>\n",
              "  <tbody>\n",
              "    <tr>\n",
              "      <th>0</th>\n",
              "      <td>/content/content/combined_faces/8_163.jpg</td>\n",
              "      <td>8</td>\n",
              "    </tr>\n",
              "    <tr>\n",
              "      <th>1</th>\n",
              "      <td>/content/content/combined_faces/38_66.jpg</td>\n",
              "      <td>38</td>\n",
              "    </tr>\n",
              "    <tr>\n",
              "      <th>2</th>\n",
              "      <td>/content/content/combined_faces/40_177.jpg</td>\n",
              "      <td>40</td>\n",
              "    </tr>\n",
              "    <tr>\n",
              "      <th>3</th>\n",
              "      <td>/content/content/combined_faces/36_267.jpg</td>\n",
              "      <td>36</td>\n",
              "    </tr>\n",
              "    <tr>\n",
              "      <th>4</th>\n",
              "      <td>/content/content/combined_faces/8_349.jpg</td>\n",
              "      <td>8</td>\n",
              "    </tr>\n",
              "  </tbody>\n",
              "</table>\n",
              "</div>\n",
              "      <button class=\"colab-df-convert\" onclick=\"convertToInteractive('df-eec7043b-e786-4caa-bc26-a72d9c68470f')\"\n",
              "              title=\"Convert this dataframe to an interactive table.\"\n",
              "              style=\"display:none;\">\n",
              "        \n",
              "  <svg xmlns=\"http://www.w3.org/2000/svg\" height=\"24px\"viewBox=\"0 0 24 24\"\n",
              "       width=\"24px\">\n",
              "    <path d=\"M0 0h24v24H0V0z\" fill=\"none\"/>\n",
              "    <path d=\"M18.56 5.44l.94 2.06.94-2.06 2.06-.94-2.06-.94-.94-2.06-.94 2.06-2.06.94zm-11 1L8.5 8.5l.94-2.06 2.06-.94-2.06-.94L8.5 2.5l-.94 2.06-2.06.94zm10 10l.94 2.06.94-2.06 2.06-.94-2.06-.94-.94-2.06-.94 2.06-2.06.94z\"/><path d=\"M17.41 7.96l-1.37-1.37c-.4-.4-.92-.59-1.43-.59-.52 0-1.04.2-1.43.59L10.3 9.45l-7.72 7.72c-.78.78-.78 2.05 0 2.83L4 21.41c.39.39.9.59 1.41.59.51 0 1.02-.2 1.41-.59l7.78-7.78 2.81-2.81c.8-.78.8-2.07 0-2.86zM5.41 20L4 18.59l7.72-7.72 1.47 1.35L5.41 20z\"/>\n",
              "  </svg>\n",
              "      </button>\n",
              "      \n",
              "  <style>\n",
              "    .colab-df-container {\n",
              "      display:flex;\n",
              "      flex-wrap:wrap;\n",
              "      gap: 12px;\n",
              "    }\n",
              "\n",
              "    .colab-df-convert {\n",
              "      background-color: #E8F0FE;\n",
              "      border: none;\n",
              "      border-radius: 50%;\n",
              "      cursor: pointer;\n",
              "      display: none;\n",
              "      fill: #1967D2;\n",
              "      height: 32px;\n",
              "      padding: 0 0 0 0;\n",
              "      width: 32px;\n",
              "    }\n",
              "\n",
              "    .colab-df-convert:hover {\n",
              "      background-color: #E2EBFA;\n",
              "      box-shadow: 0px 1px 2px rgba(60, 64, 67, 0.3), 0px 1px 3px 1px rgba(60, 64, 67, 0.15);\n",
              "      fill: #174EA6;\n",
              "    }\n",
              "\n",
              "    [theme=dark] .colab-df-convert {\n",
              "      background-color: #3B4455;\n",
              "      fill: #D2E3FC;\n",
              "    }\n",
              "\n",
              "    [theme=dark] .colab-df-convert:hover {\n",
              "      background-color: #434B5C;\n",
              "      box-shadow: 0px 1px 3px 1px rgba(0, 0, 0, 0.15);\n",
              "      filter: drop-shadow(0px 1px 2px rgba(0, 0, 0, 0.3));\n",
              "      fill: #FFFFFF;\n",
              "    }\n",
              "  </style>\n",
              "\n",
              "      <script>\n",
              "        const buttonEl =\n",
              "          document.querySelector('#df-eec7043b-e786-4caa-bc26-a72d9c68470f button.colab-df-convert');\n",
              "        buttonEl.style.display =\n",
              "          google.colab.kernel.accessAllowed ? 'block' : 'none';\n",
              "\n",
              "        async function convertToInteractive(key) {\n",
              "          const element = document.querySelector('#df-eec7043b-e786-4caa-bc26-a72d9c68470f');\n",
              "          const dataTable =\n",
              "            await google.colab.kernel.invokeFunction('convertToInteractive',\n",
              "                                                     [key], {});\n",
              "          if (!dataTable) return;\n",
              "\n",
              "          const docLinkHtml = 'Like what you see? Visit the ' +\n",
              "            '<a target=\"_blank\" href=https://colab.research.google.com/notebooks/data_table.ipynb>data table notebook</a>'\n",
              "            + ' to learn more about interactive tables.';\n",
              "          element.innerHTML = '';\n",
              "          dataTable['output_type'] = 'display_data';\n",
              "          await google.colab.output.renderOutput(dataTable, element);\n",
              "          const docLink = document.createElement('div');\n",
              "          docLink.innerHTML = docLinkHtml;\n",
              "          element.appendChild(docLink);\n",
              "        }\n",
              "      </script>\n",
              "    </div>\n",
              "  </div>\n",
              "  "
            ]
          },
          "metadata": {},
          "execution_count": 9
        }
      ],
      "source": [
        "test_set.head()"
      ]
    },
    {
      "cell_type": "code",
      "execution_count": null,
      "metadata": {
        "colab": {
          "base_uri": "https://localhost:8080/"
        },
        "id": "SAgJbHfLYH03",
        "outputId": "1f833f53-ce55-41e1-f8da-09b8bec33b66"
      },
      "outputs": [
        {
          "output_type": "execute_result",
          "data": {
            "text/plain": [
              "(10046, 2)"
            ]
          },
          "metadata": {},
          "execution_count": 10
        }
      ],
      "source": [
        "test_set.shape"
      ]
    },
    {
      "cell_type": "markdown",
      "metadata": {
        "id": "_F0vlm7AYOSp"
      },
      "source": [
        "## Define Age Classes"
      ]
    },
    {
      "cell_type": "markdown",
      "source": [
        "Defining age classes."
      ],
      "metadata": {
        "id": "te5a8RVZ35hj"
      }
    },
    {
      "cell_type": "markdown",
      "source": [
        "Defining a function to return the class labels corresponding to the re-distributed 7 age-ranges.\n"
      ],
      "metadata": {
        "id": "-e592LJHyJ3v"
      }
    },
    {
      "cell_type": "code",
      "execution_count": null,
      "metadata": {
        "id": "LAjkqpcVYW1g"
      },
      "outputs": [],
      "source": [
        "def class_labels_reassign(age):\n",
        "\n",
        "    if 1 <= age <= 2:\n",
        "        return 0\n",
        "    elif 3 <= age <= 9:\n",
        "        return 1\n",
        "    elif 10 <= age <= 20:\n",
        "        return 2\n",
        "    elif 21 <= age <= 27:\n",
        "        return 3\n",
        "    elif 28 <= age <= 45:\n",
        "        return 4\n",
        "    elif 46 <= age <= 65:\n",
        "        return 5\n",
        "    else:\n",
        "        return 6"
      ]
    },
    {
      "cell_type": "markdown",
      "source": [
        "A new column has been created in the training and test set label data frames for the newly defined age classes."
      ],
      "metadata": {
        "id": "WHa2deEX38GF"
      }
    },
    {
      "cell_type": "code",
      "execution_count": null,
      "metadata": {
        "id": "ioUqOM6mYv1z"
      },
      "outputs": [],
      "source": [
        "train_aug_set['Age Group'] = train_aug_set['age'].map(class_labels_reassign)\n",
        "test_set['Age Group'] = test_set['age'].map(class_labels_reassign)"
      ]
    },
    {
      "cell_type": "code",
      "execution_count": null,
      "metadata": {
        "colab": {
          "base_uri": "https://localhost:8080/",
          "height": 206
        },
        "id": "vmLfPUQuZLFF",
        "outputId": "14064427-a86d-479d-f55b-6957b96aea38"
      },
      "outputs": [
        {
          "output_type": "execute_result",
          "data": {
            "text/plain": [
              "                                            filename  age  Age Group\n",
              "0  /content/content/combined_faces_train_augmente...   43          4\n",
              "1  /content/content/combined_faces_train_augmente...   71          6\n",
              "2  /content/content/combined_faces_train_augmente...    6          1\n",
              "3  /content/content/combined_faces_train_augmente...   18          2\n",
              "4  /content/content/combined_faces_train_augmente...   25          3"
            ],
            "text/html": [
              "\n",
              "  <div id=\"df-72fadb20-bd01-4d58-95bc-0d73b3cf41aa\">\n",
              "    <div class=\"colab-df-container\">\n",
              "      <div>\n",
              "<style scoped>\n",
              "    .dataframe tbody tr th:only-of-type {\n",
              "        vertical-align: middle;\n",
              "    }\n",
              "\n",
              "    .dataframe tbody tr th {\n",
              "        vertical-align: top;\n",
              "    }\n",
              "\n",
              "    .dataframe thead th {\n",
              "        text-align: right;\n",
              "    }\n",
              "</style>\n",
              "<table border=\"1\" class=\"dataframe\">\n",
              "  <thead>\n",
              "    <tr style=\"text-align: right;\">\n",
              "      <th></th>\n",
              "      <th>filename</th>\n",
              "      <th>age</th>\n",
              "      <th>Age Group</th>\n",
              "    </tr>\n",
              "  </thead>\n",
              "  <tbody>\n",
              "    <tr>\n",
              "      <th>0</th>\n",
              "      <td>/content/content/combined_faces_train_augmente...</td>\n",
              "      <td>43</td>\n",
              "      <td>4</td>\n",
              "    </tr>\n",
              "    <tr>\n",
              "      <th>1</th>\n",
              "      <td>/content/content/combined_faces_train_augmente...</td>\n",
              "      <td>71</td>\n",
              "      <td>6</td>\n",
              "    </tr>\n",
              "    <tr>\n",
              "      <th>2</th>\n",
              "      <td>/content/content/combined_faces_train_augmente...</td>\n",
              "      <td>6</td>\n",
              "      <td>1</td>\n",
              "    </tr>\n",
              "    <tr>\n",
              "      <th>3</th>\n",
              "      <td>/content/content/combined_faces_train_augmente...</td>\n",
              "      <td>18</td>\n",
              "      <td>2</td>\n",
              "    </tr>\n",
              "    <tr>\n",
              "      <th>4</th>\n",
              "      <td>/content/content/combined_faces_train_augmente...</td>\n",
              "      <td>25</td>\n",
              "      <td>3</td>\n",
              "    </tr>\n",
              "  </tbody>\n",
              "</table>\n",
              "</div>\n",
              "      <button class=\"colab-df-convert\" onclick=\"convertToInteractive('df-72fadb20-bd01-4d58-95bc-0d73b3cf41aa')\"\n",
              "              title=\"Convert this dataframe to an interactive table.\"\n",
              "              style=\"display:none;\">\n",
              "        \n",
              "  <svg xmlns=\"http://www.w3.org/2000/svg\" height=\"24px\"viewBox=\"0 0 24 24\"\n",
              "       width=\"24px\">\n",
              "    <path d=\"M0 0h24v24H0V0z\" fill=\"none\"/>\n",
              "    <path d=\"M18.56 5.44l.94 2.06.94-2.06 2.06-.94-2.06-.94-.94-2.06-.94 2.06-2.06.94zm-11 1L8.5 8.5l.94-2.06 2.06-.94-2.06-.94L8.5 2.5l-.94 2.06-2.06.94zm10 10l.94 2.06.94-2.06 2.06-.94-2.06-.94-.94-2.06-.94 2.06-2.06.94z\"/><path d=\"M17.41 7.96l-1.37-1.37c-.4-.4-.92-.59-1.43-.59-.52 0-1.04.2-1.43.59L10.3 9.45l-7.72 7.72c-.78.78-.78 2.05 0 2.83L4 21.41c.39.39.9.59 1.41.59.51 0 1.02-.2 1.41-.59l7.78-7.78 2.81-2.81c.8-.78.8-2.07 0-2.86zM5.41 20L4 18.59l7.72-7.72 1.47 1.35L5.41 20z\"/>\n",
              "  </svg>\n",
              "      </button>\n",
              "      \n",
              "  <style>\n",
              "    .colab-df-container {\n",
              "      display:flex;\n",
              "      flex-wrap:wrap;\n",
              "      gap: 12px;\n",
              "    }\n",
              "\n",
              "    .colab-df-convert {\n",
              "      background-color: #E8F0FE;\n",
              "      border: none;\n",
              "      border-radius: 50%;\n",
              "      cursor: pointer;\n",
              "      display: none;\n",
              "      fill: #1967D2;\n",
              "      height: 32px;\n",
              "      padding: 0 0 0 0;\n",
              "      width: 32px;\n",
              "    }\n",
              "\n",
              "    .colab-df-convert:hover {\n",
              "      background-color: #E2EBFA;\n",
              "      box-shadow: 0px 1px 2px rgba(60, 64, 67, 0.3), 0px 1px 3px 1px rgba(60, 64, 67, 0.15);\n",
              "      fill: #174EA6;\n",
              "    }\n",
              "\n",
              "    [theme=dark] .colab-df-convert {\n",
              "      background-color: #3B4455;\n",
              "      fill: #D2E3FC;\n",
              "    }\n",
              "\n",
              "    [theme=dark] .colab-df-convert:hover {\n",
              "      background-color: #434B5C;\n",
              "      box-shadow: 0px 1px 3px 1px rgba(0, 0, 0, 0.15);\n",
              "      filter: drop-shadow(0px 1px 2px rgba(0, 0, 0, 0.3));\n",
              "      fill: #FFFFFF;\n",
              "    }\n",
              "  </style>\n",
              "\n",
              "      <script>\n",
              "        const buttonEl =\n",
              "          document.querySelector('#df-72fadb20-bd01-4d58-95bc-0d73b3cf41aa button.colab-df-convert');\n",
              "        buttonEl.style.display =\n",
              "          google.colab.kernel.accessAllowed ? 'block' : 'none';\n",
              "\n",
              "        async function convertToInteractive(key) {\n",
              "          const element = document.querySelector('#df-72fadb20-bd01-4d58-95bc-0d73b3cf41aa');\n",
              "          const dataTable =\n",
              "            await google.colab.kernel.invokeFunction('convertToInteractive',\n",
              "                                                     [key], {});\n",
              "          if (!dataTable) return;\n",
              "\n",
              "          const docLinkHtml = 'Like what you see? Visit the ' +\n",
              "            '<a target=\"_blank\" href=https://colab.research.google.com/notebooks/data_table.ipynb>data table notebook</a>'\n",
              "            + ' to learn more about interactive tables.';\n",
              "          element.innerHTML = '';\n",
              "          dataTable['output_type'] = 'display_data';\n",
              "          await google.colab.output.renderOutput(dataTable, element);\n",
              "          const docLink = document.createElement('div');\n",
              "          docLink.innerHTML = docLinkHtml;\n",
              "          element.appendChild(docLink);\n",
              "        }\n",
              "      </script>\n",
              "    </div>\n",
              "  </div>\n",
              "  "
            ]
          },
          "metadata": {},
          "execution_count": 13
        }
      ],
      "source": [
        "train_aug_set.head()"
      ]
    },
    {
      "cell_type": "code",
      "execution_count": null,
      "metadata": {
        "colab": {
          "base_uri": "https://localhost:8080/",
          "height": 206
        },
        "id": "NlivSiKOZRnd",
        "outputId": "44fe932b-df64-4f4d-e853-85c625ed90e7"
      },
      "outputs": [
        {
          "output_type": "execute_result",
          "data": {
            "text/plain": [
              "                                     filename  age  Age Group\n",
              "0   /content/content/combined_faces/8_163.jpg    8          1\n",
              "1   /content/content/combined_faces/38_66.jpg   38          4\n",
              "2  /content/content/combined_faces/40_177.jpg   40          4\n",
              "3  /content/content/combined_faces/36_267.jpg   36          4\n",
              "4   /content/content/combined_faces/8_349.jpg    8          1"
            ],
            "text/html": [
              "\n",
              "  <div id=\"df-3570f304-ae44-4fa8-b3ea-12a4a0188ffe\">\n",
              "    <div class=\"colab-df-container\">\n",
              "      <div>\n",
              "<style scoped>\n",
              "    .dataframe tbody tr th:only-of-type {\n",
              "        vertical-align: middle;\n",
              "    }\n",
              "\n",
              "    .dataframe tbody tr th {\n",
              "        vertical-align: top;\n",
              "    }\n",
              "\n",
              "    .dataframe thead th {\n",
              "        text-align: right;\n",
              "    }\n",
              "</style>\n",
              "<table border=\"1\" class=\"dataframe\">\n",
              "  <thead>\n",
              "    <tr style=\"text-align: right;\">\n",
              "      <th></th>\n",
              "      <th>filename</th>\n",
              "      <th>age</th>\n",
              "      <th>Age Group</th>\n",
              "    </tr>\n",
              "  </thead>\n",
              "  <tbody>\n",
              "    <tr>\n",
              "      <th>0</th>\n",
              "      <td>/content/content/combined_faces/8_163.jpg</td>\n",
              "      <td>8</td>\n",
              "      <td>1</td>\n",
              "    </tr>\n",
              "    <tr>\n",
              "      <th>1</th>\n",
              "      <td>/content/content/combined_faces/38_66.jpg</td>\n",
              "      <td>38</td>\n",
              "      <td>4</td>\n",
              "    </tr>\n",
              "    <tr>\n",
              "      <th>2</th>\n",
              "      <td>/content/content/combined_faces/40_177.jpg</td>\n",
              "      <td>40</td>\n",
              "      <td>4</td>\n",
              "    </tr>\n",
              "    <tr>\n",
              "      <th>3</th>\n",
              "      <td>/content/content/combined_faces/36_267.jpg</td>\n",
              "      <td>36</td>\n",
              "      <td>4</td>\n",
              "    </tr>\n",
              "    <tr>\n",
              "      <th>4</th>\n",
              "      <td>/content/content/combined_faces/8_349.jpg</td>\n",
              "      <td>8</td>\n",
              "      <td>1</td>\n",
              "    </tr>\n",
              "  </tbody>\n",
              "</table>\n",
              "</div>\n",
              "      <button class=\"colab-df-convert\" onclick=\"convertToInteractive('df-3570f304-ae44-4fa8-b3ea-12a4a0188ffe')\"\n",
              "              title=\"Convert this dataframe to an interactive table.\"\n",
              "              style=\"display:none;\">\n",
              "        \n",
              "  <svg xmlns=\"http://www.w3.org/2000/svg\" height=\"24px\"viewBox=\"0 0 24 24\"\n",
              "       width=\"24px\">\n",
              "    <path d=\"M0 0h24v24H0V0z\" fill=\"none\"/>\n",
              "    <path d=\"M18.56 5.44l.94 2.06.94-2.06 2.06-.94-2.06-.94-.94-2.06-.94 2.06-2.06.94zm-11 1L8.5 8.5l.94-2.06 2.06-.94-2.06-.94L8.5 2.5l-.94 2.06-2.06.94zm10 10l.94 2.06.94-2.06 2.06-.94-2.06-.94-.94-2.06-.94 2.06-2.06.94z\"/><path d=\"M17.41 7.96l-1.37-1.37c-.4-.4-.92-.59-1.43-.59-.52 0-1.04.2-1.43.59L10.3 9.45l-7.72 7.72c-.78.78-.78 2.05 0 2.83L4 21.41c.39.39.9.59 1.41.59.51 0 1.02-.2 1.41-.59l7.78-7.78 2.81-2.81c.8-.78.8-2.07 0-2.86zM5.41 20L4 18.59l7.72-7.72 1.47 1.35L5.41 20z\"/>\n",
              "  </svg>\n",
              "      </button>\n",
              "      \n",
              "  <style>\n",
              "    .colab-df-container {\n",
              "      display:flex;\n",
              "      flex-wrap:wrap;\n",
              "      gap: 12px;\n",
              "    }\n",
              "\n",
              "    .colab-df-convert {\n",
              "      background-color: #E8F0FE;\n",
              "      border: none;\n",
              "      border-radius: 50%;\n",
              "      cursor: pointer;\n",
              "      display: none;\n",
              "      fill: #1967D2;\n",
              "      height: 32px;\n",
              "      padding: 0 0 0 0;\n",
              "      width: 32px;\n",
              "    }\n",
              "\n",
              "    .colab-df-convert:hover {\n",
              "      background-color: #E2EBFA;\n",
              "      box-shadow: 0px 1px 2px rgba(60, 64, 67, 0.3), 0px 1px 3px 1px rgba(60, 64, 67, 0.15);\n",
              "      fill: #174EA6;\n",
              "    }\n",
              "\n",
              "    [theme=dark] .colab-df-convert {\n",
              "      background-color: #3B4455;\n",
              "      fill: #D2E3FC;\n",
              "    }\n",
              "\n",
              "    [theme=dark] .colab-df-convert:hover {\n",
              "      background-color: #434B5C;\n",
              "      box-shadow: 0px 1px 3px 1px rgba(0, 0, 0, 0.15);\n",
              "      filter: drop-shadow(0px 1px 2px rgba(0, 0, 0, 0.3));\n",
              "      fill: #FFFFFF;\n",
              "    }\n",
              "  </style>\n",
              "\n",
              "      <script>\n",
              "        const buttonEl =\n",
              "          document.querySelector('#df-3570f304-ae44-4fa8-b3ea-12a4a0188ffe button.colab-df-convert');\n",
              "        buttonEl.style.display =\n",
              "          google.colab.kernel.accessAllowed ? 'block' : 'none';\n",
              "\n",
              "        async function convertToInteractive(key) {\n",
              "          const element = document.querySelector('#df-3570f304-ae44-4fa8-b3ea-12a4a0188ffe');\n",
              "          const dataTable =\n",
              "            await google.colab.kernel.invokeFunction('convertToInteractive',\n",
              "                                                     [key], {});\n",
              "          if (!dataTable) return;\n",
              "\n",
              "          const docLinkHtml = 'Like what you see? Visit the ' +\n",
              "            '<a target=\"_blank\" href=https://colab.research.google.com/notebooks/data_table.ipynb>data table notebook</a>'\n",
              "            + ' to learn more about interactive tables.';\n",
              "          element.innerHTML = '';\n",
              "          dataTable['output_type'] = 'display_data';\n",
              "          await google.colab.output.renderOutput(dataTable, element);\n",
              "          const docLink = document.createElement('div');\n",
              "          docLink.innerHTML = docLinkHtml;\n",
              "          element.appendChild(docLink);\n",
              "        }\n",
              "      </script>\n",
              "    </div>\n",
              "  </div>\n",
              "  "
            ]
          },
          "metadata": {},
          "execution_count": 14
        }
      ],
      "source": [
        "test_set.head()"
      ]
    },
    {
      "cell_type": "markdown",
      "metadata": {
        "id": "wCYcRD3nZcfU"
      },
      "source": [
        "## Organize Dataset\n"
      ]
    },
    {
      "cell_type": "markdown",
      "source": [
        "Storing filename and target for both train and test sets into list."
      ],
      "metadata": {
        "id": "1jviBdt04mnV"
      }
    },
    {
      "cell_type": "code",
      "execution_count": null,
      "metadata": {
        "id": "JuHBCUDlZgUM"
      },
      "outputs": [],
      "source": [
        "train_aug_filenames_list = list(train_aug_set['filename'])\n",
        "train_aug_targets_list = list(train_aug_set['Age Group'])\n",
        "\n",
        "test_filenames_list = list(test_set['filename'])\n",
        "test_targets_list = list(test_set['Age Group'])"
      ]
    },
    {
      "cell_type": "markdown",
      "source": [
        "Tensorflow constants have been created for the lists created above."
      ],
      "metadata": {
        "id": "HDzYc1165SUc"
      }
    },
    {
      "cell_type": "code",
      "execution_count": null,
      "metadata": {
        "id": "z9MMcnaHZp6V"
      },
      "outputs": [],
      "source": [
        "train_aug_filenames_tensor = tf.constant(train_aug_filenames_list)\n",
        "train_aug_targets_tensor = tf.constant(train_aug_targets_list)\n",
        "\n",
        "test_filenames_tensor = tf.constant(test_filenames_list)\n",
        "test_targets_tensor = tf.constant(test_targets_list)"
      ]
    },
    {
      "cell_type": "markdown",
      "metadata": {
        "id": "EJpz6Dujun1m"
      },
      "source": [
        "## Image Greyscale Function"
      ]
    },
    {
      "cell_type": "markdown",
      "source": [
        "In order to reduce the computational power we may need to build this model, all training set images should be converted to grayscale."
      ],
      "metadata": {
        "id": "55Nx1bvqyx-f"
      }
    },
    {
      "cell_type": "markdown",
      "source": [
        "Defining a function to read the image, decode the image from given tensor and one-hot encode the image label class."
      ],
      "metadata": {
        "id": "0Za830fY5cRj"
      }
    },
    {
      "cell_type": "markdown",
      "source": [
        "Changing the channels para in tf.io.decode_jpeg from 3 to 1 changes the output images from RGB coloured to grayscale."
      ],
      "metadata": {
        "id": "M2szGBq6yjN9"
      }
    },
    {
      "cell_type": "code",
      "execution_count": null,
      "metadata": {
        "id": "sDoX5G8LurAv"
      },
      "outputs": [],
      "source": [
        "num_classes = 7\n",
        "\n",
        "def _parse_function(filename, label):\n",
        "\n",
        "    image_read = tf.io.read_file(filename)\n",
        "    image_decoded = tf.io.decode_jpeg(image_read, channels=1)\n",
        "\n",
        "    label = tf.one_hot(label, num_classes)\n",
        "\n",
        "    return image_decoded, label"
      ]
    },
    {
      "cell_type": "markdown",
      "source": [
        "Passing all training and test images to the above defined function for converting them to grayscale."
      ],
      "metadata": {
        "id": "MrlWlGHd5qS5"
      }
    },
    {
      "cell_type": "markdown",
      "source": [
        "Getting the dataset ready for the neural network."
      ],
      "metadata": {
        "id": "91GsZ8i6yq7z"
      }
    },
    {
      "cell_type": "markdown",
      "source": [
        "Using the tensor vectors defined above, accessing the images in the dataset and passing them through the function defined above."
      ],
      "metadata": {
        "id": "beQrln1hyzUB"
      }
    },
    {
      "cell_type": "code",
      "execution_count": null,
      "metadata": {
        "id": "6bR1hikVuup3"
      },
      "outputs": [],
      "source": [
        "train_aug_dataset = tf.data.Dataset.from_tensor_slices((train_aug_filenames_tensor, train_aug_targets_tensor))\n",
        "train_aug_dataset = train_aug_dataset.map(_parse_function)\n",
        "\n",
        "train_aug_dataset = train_aug_dataset.batch(64)\n",
        "\n",
        "test_dataset = tf.data.Dataset.from_tensor_slices((test_filenames_tensor, test_targets_tensor))\n",
        "test_dataset = test_dataset.map(_parse_function)\n",
        "\n",
        "test_dataset = test_dataset.batch(64)"
      ]
    },
    {
      "cell_type": "markdown",
      "metadata": {
        "id": "luhzUc_Rv5yn"
      },
      "source": [
        "# CNN Architecture"
      ]
    },
    {
      "cell_type": "markdown",
      "source": [
        "Defining CNN Architecture"
      ],
      "metadata": {
        "id": "g6baWQqT7qZw"
      }
    },
    {
      "cell_type": "markdown",
      "source": [
        "(#1), we have an input 2D Convolutional layer (with 32 filters) paired with an 2D AveragePooling layer."
      ],
      "metadata": {
        "id": "HqzAUHoE7ufW"
      }
    },
    {
      "cell_type": "markdown",
      "source": [
        "(#2), we have 3 pairs of 2D Convolutional layer (with 64, 128 and 256 filters) paired again with 2D AveragePooling layers."
      ],
      "metadata": {
        "id": "3wnCF-Mh-ADe"
      }
    },
    {
      "cell_type": "markdown",
      "source": [
        "(#3), we have a 2D GlobalAveragePooling layer."
      ],
      "metadata": {
        "id": "GMrWjo4C-Fne"
      }
    },
    {
      "cell_type": "markdown",
      "source": [
        "(#4), One dense layer with 132 nodes."
      ],
      "metadata": {
        "id": "5FUAKHUB-Vcp"
      }
    },
    {
      "cell_type": "markdown",
      "source": [
        "(#5), Output dense layer with 7 nodes."
      ],
      "metadata": {
        "id": "OMmn8qpu-j5g"
      }
    },
    {
      "cell_type": "code",
      "execution_count": null,
      "metadata": {
        "colab": {
          "base_uri": "https://localhost:8080/"
        },
        "id": "Um5qKAWrv_vL",
        "outputId": "5cdfb6ba-8f04-4db1-f957-58d6f85e3041"
      },
      "outputs": [
        {
          "output_type": "stream",
          "name": "stdout",
          "text": [
            "Model: \"sequential\"\n",
            "_________________________________________________________________\n",
            "Layer (type)                 Output Shape              Param #   \n",
            "=================================================================\n",
            "conv2d (Conv2D)              (None, 198, 198, 32)      320       \n",
            "_________________________________________________________________\n",
            "average_pooling2d (AveragePo (None, 99, 99, 32)        0         \n",
            "_________________________________________________________________\n",
            "conv2d_1 (Conv2D)            (None, 97, 97, 64)        18496     \n",
            "_________________________________________________________________\n",
            "average_pooling2d_1 (Average (None, 48, 48, 64)        0         \n",
            "_________________________________________________________________\n",
            "conv2d_2 (Conv2D)            (None, 46, 46, 128)       73856     \n",
            "_________________________________________________________________\n",
            "average_pooling2d_2 (Average (None, 23, 23, 128)       0         \n",
            "_________________________________________________________________\n",
            "conv2d_3 (Conv2D)            (None, 21, 21, 256)       295168    \n",
            "_________________________________________________________________\n",
            "average_pooling2d_3 (Average (None, 10, 10, 256)       0         \n",
            "_________________________________________________________________\n",
            "global_average_pooling2d (Gl (None, 256)               0         \n",
            "_________________________________________________________________\n",
            "dense (Dense)                (None, 132)               33924     \n",
            "_________________________________________________________________\n",
            "dense_1 (Dense)              (None, 7)                 931       \n",
            "=================================================================\n",
            "Total params: 422,695\n",
            "Trainable params: 422,695\n",
            "Non-trainable params: 0\n",
            "_________________________________________________________________\n"
          ]
        }
      ],
      "source": [
        "# Defining the architecture of the sequential neural network.\n",
        "\n",
        "final_cnn = Sequential()\n",
        "#1\n",
        "final_cnn.add(Conv2D(filters=32, kernel_size=3, activation='relu', input_shape=(200, 200, 1)))    # 3rd dim = 1 for grayscale images.\n",
        "final_cnn.add(AveragePooling2D(pool_size=(2,2)))\n",
        "\n",
        "#2\n",
        "final_cnn.add(Conv2D(filters=64, kernel_size=3, activation='relu'))\n",
        "final_cnn.add(AveragePooling2D(pool_size=(2,2)))\n",
        "\n",
        "final_cnn.add(Conv2D(filters=128, kernel_size=3, activation='relu'))\n",
        "final_cnn.add(AveragePooling2D(pool_size=(2,2)))\n",
        "\n",
        "final_cnn.add(Conv2D(filters=256, kernel_size=3, activation='relu'))\n",
        "final_cnn.add(AveragePooling2D(pool_size=(2,2)))\n",
        "\n",
        "#3\n",
        "final_cnn.add(GlobalAveragePooling2D())\n",
        "\n",
        "#4\n",
        "final_cnn.add(Dense(132, activation='relu'))\n",
        "\n",
        "#5\n",
        "final_cnn.add(Dense(7, activation='softmax'))\n",
        "\n",
        "final_cnn.summary()"
      ]
    },
    {
      "cell_type": "markdown",
      "source": [
        "Compiling the above created CNN architecture."
      ],
      "metadata": {
        "id": "jpRr6Qj3zLKI"
      }
    },
    {
      "cell_type": "code",
      "execution_count": null,
      "metadata": {
        "id": "MJgFkaTcwIts"
      },
      "outputs": [],
      "source": [
        "final_cnn.compile(loss='categorical_crossentropy', optimizer='adam', metrics=['accuracy'])"
      ]
    },
    {
      "cell_type": "markdown",
      "source": [
        "Provisioning for storing CNN logs."
      ],
      "metadata": {
        "id": "M1vWKTePAwIA"
      }
    },
    {
      "cell_type": "markdown",
      "source": [
        "Creating a TensorBoard callback object and saving it at the desired location."
      ],
      "metadata": {
        "id": "KoSjHhuIzRg8"
      }
    },
    {
      "cell_type": "code",
      "execution_count": null,
      "metadata": {
        "id": "oClTVPMywLTU"
      },
      "outputs": [],
      "source": [
        "tensorboard = TensorBoard(log_dir=f\"/content/drive/MyDrive/Machine_learning_Project/Input_Output_Age/Output/cnn_log\")"
      ]
    },
    {
      "cell_type": "markdown",
      "metadata": {
        "id": "9oRDWhtjwwcs"
      },
      "source": [
        "We shall also use **ModelCheckpoint** as a callback while training the final CNN model so as to be able to save the model as it continues training and improving in performance."
      ]
    },
    {
      "cell_type": "markdown",
      "source": [
        "Creating a ModelCheckpoint callback object to save the model according to the value of val_accuracy."
      ],
      "metadata": {
        "id": "_HtRYz_ez8Hd"
      }
    },
    {
      "cell_type": "code",
      "execution_count": null,
      "metadata": {
        "id": "yolAXtAgwy6U"
      },
      "outputs": [],
      "source": [
        "checkpoint = ModelCheckpoint(filepath=f\"/content/drive/MyDrive/Machine_learning_Project/Input_Output_Age/Output/cnn_log/age_model_checkpoint.h5\",\n",
        "                             monitor='val_accuracy',\n",
        "                             save_best_only=True,\n",
        "                             save_weights_only=False,\n",
        "                             verbose=1\n",
        "                            )"
      ]
    },
    {
      "cell_type": "markdown",
      "metadata": {
        "id": "CpcD3Cq3xTBP"
      },
      "source": [
        "# Model Fitting"
      ]
    },
    {
      "cell_type": "markdown",
      "source": [
        "Fitting the above created CNN model."
      ],
      "metadata": {
        "id": "IsNX62IN0BE-"
      }
    },
    {
      "cell_type": "code",
      "execution_count": null,
      "metadata": {
        "colab": {
          "base_uri": "https://localhost:8080/"
        },
        "id": "Y0SbkKptxWqv",
        "outputId": "6cb36b82-aaa3-4abb-bc72-e0684d4ed4e2"
      },
      "outputs": [
        {
          "output_type": "stream",
          "name": "stdout",
          "text": [
            "Epoch 1/20\n",
            "3663/3663 [==============================] - 318s 83ms/step - loss: 1.3992 - accuracy: 0.4325 - val_loss: 1.1260 - val_accuracy: 0.5252\n",
            "\n",
            "Epoch 00001: val_accuracy improved from -inf to 0.52518, saving model to /content/drive/MyDrive/Machine_learning_Project/Input_Output_Age/Output/cnn_log/age_model_checkpoint.h5\n",
            "Epoch 2/20\n",
            "3663/3663 [==============================] - 289s 79ms/step - loss: 1.0303 - accuracy: 0.5658 - val_loss: 1.0198 - val_accuracy: 0.5664\n",
            "\n",
            "Epoch 00002: val_accuracy improved from 0.52518 to 0.56639, saving model to /content/drive/MyDrive/Machine_learning_Project/Input_Output_Age/Output/cnn_log/age_model_checkpoint.h5\n",
            "Epoch 3/20\n",
            "3663/3663 [==============================] - 288s 79ms/step - loss: 0.9089 - accuracy: 0.6134 - val_loss: 0.9010 - val_accuracy: 0.6138\n",
            "\n",
            "Epoch 00003: val_accuracy improved from 0.56639 to 0.61378, saving model to /content/drive/MyDrive/Machine_learning_Project/Input_Output_Age/Output/cnn_log/age_model_checkpoint.h5\n",
            "Epoch 4/20\n",
            "3663/3663 [==============================] - 286s 78ms/step - loss: 0.8275 - accuracy: 0.6470 - val_loss: 0.8158 - val_accuracy: 0.6530\n",
            "\n",
            "Epoch 00004: val_accuracy improved from 0.61378 to 0.65300, saving model to /content/drive/MyDrive/Machine_learning_Project/Input_Output_Age/Output/cnn_log/age_model_checkpoint.h5\n",
            "Epoch 5/20\n",
            "3663/3663 [==============================] - 287s 78ms/step - loss: 0.7593 - accuracy: 0.6767 - val_loss: 0.7805 - val_accuracy: 0.6725\n",
            "\n",
            "Epoch 00005: val_accuracy improved from 0.65300 to 0.67251, saving model to /content/drive/MyDrive/Machine_learning_Project/Input_Output_Age/Output/cnn_log/age_model_checkpoint.h5\n",
            "Epoch 6/20\n",
            "3663/3663 [==============================] - 287s 78ms/step - loss: 0.7009 - accuracy: 0.7018 - val_loss: 0.7646 - val_accuracy: 0.6792\n",
            "\n",
            "Epoch 00006: val_accuracy improved from 0.67251 to 0.67918, saving model to /content/drive/MyDrive/Machine_learning_Project/Input_Output_Age/Output/cnn_log/age_model_checkpoint.h5\n",
            "Epoch 7/20\n",
            "3663/3663 [==============================] - 288s 79ms/step - loss: 0.6470 - accuracy: 0.7255 - val_loss: 0.7176 - val_accuracy: 0.7012\n",
            "\n",
            "Epoch 00007: val_accuracy improved from 0.67918 to 0.70117, saving model to /content/drive/MyDrive/Machine_learning_Project/Input_Output_Age/Output/cnn_log/age_model_checkpoint.h5\n",
            "Epoch 8/20\n",
            "3663/3663 [==============================] - 284s 77ms/step - loss: 0.5984 - accuracy: 0.7473 - val_loss: 0.6875 - val_accuracy: 0.7168\n",
            "\n",
            "Epoch 00008: val_accuracy improved from 0.70117 to 0.71680, saving model to /content/drive/MyDrive/Machine_learning_Project/Input_Output_Age/Output/cnn_log/age_model_checkpoint.h5\n",
            "Epoch 9/20\n",
            "3663/3663 [==============================] - 288s 79ms/step - loss: 0.5547 - accuracy: 0.7660 - val_loss: 0.6368 - val_accuracy: 0.7456\n",
            "\n",
            "Epoch 00009: val_accuracy improved from 0.71680 to 0.74557, saving model to /content/drive/MyDrive/Machine_learning_Project/Input_Output_Age/Output/cnn_log/age_model_checkpoint.h5\n",
            "Epoch 10/20\n",
            "3663/3663 [==============================] - 289s 79ms/step - loss: 0.5196 - accuracy: 0.7818 - val_loss: 0.6302 - val_accuracy: 0.7522\n",
            "\n",
            "Epoch 00010: val_accuracy improved from 0.74557 to 0.75224, saving model to /content/drive/MyDrive/Machine_learning_Project/Input_Output_Age/Output/cnn_log/age_model_checkpoint.h5\n",
            "Epoch 11/20\n",
            "3663/3663 [==============================] - 290s 79ms/step - loss: 0.4863 - accuracy: 0.7966 - val_loss: 0.6421 - val_accuracy: 0.7556\n",
            "\n",
            "Epoch 00011: val_accuracy improved from 0.75224 to 0.75562, saving model to /content/drive/MyDrive/Machine_learning_Project/Input_Output_Age/Output/cnn_log/age_model_checkpoint.h5\n",
            "Epoch 12/20\n",
            "3663/3663 [==============================] - 286s 78ms/step - loss: 0.4567 - accuracy: 0.8085 - val_loss: 0.6657 - val_accuracy: 0.7570\n",
            "\n",
            "Epoch 00012: val_accuracy improved from 0.75562 to 0.75702, saving model to /content/drive/MyDrive/Machine_learning_Project/Input_Output_Age/Output/cnn_log/age_model_checkpoint.h5\n",
            "Epoch 13/20\n",
            "3663/3663 [==============================] - 288s 79ms/step - loss: 0.4332 - accuracy: 0.8198 - val_loss: 0.6641 - val_accuracy: 0.7623\n",
            "\n",
            "Epoch 00013: val_accuracy improved from 0.75702 to 0.76229, saving model to /content/drive/MyDrive/Machine_learning_Project/Input_Output_Age/Output/cnn_log/age_model_checkpoint.h5\n",
            "Epoch 14/20\n",
            "3663/3663 [==============================] - 287s 78ms/step - loss: 0.4079 - accuracy: 0.8308 - val_loss: 0.6505 - val_accuracy: 0.7714\n",
            "\n",
            "Epoch 00014: val_accuracy improved from 0.76229 to 0.77135, saving model to /content/drive/MyDrive/Machine_learning_Project/Input_Output_Age/Output/cnn_log/age_model_checkpoint.h5\n",
            "Epoch 15/20\n",
            "3663/3663 [==============================] - 287s 78ms/step - loss: 0.3838 - accuracy: 0.8416 - val_loss: 0.6520 - val_accuracy: 0.7744\n",
            "\n",
            "Epoch 00015: val_accuracy improved from 0.77135 to 0.77444, saving model to /content/drive/MyDrive/Machine_learning_Project/Input_Output_Age/Output/cnn_log/age_model_checkpoint.h5\n",
            "Epoch 16/20\n",
            "3663/3663 [==============================] - 287s 78ms/step - loss: 0.3653 - accuracy: 0.8495 - val_loss: 0.7393 - val_accuracy: 0.7575\n",
            "\n",
            "Epoch 00016: val_accuracy did not improve from 0.77444\n",
            "Epoch 17/20\n",
            "3663/3663 [==============================] - 289s 79ms/step - loss: 0.3496 - accuracy: 0.8564 - val_loss: 0.6993 - val_accuracy: 0.7745\n",
            "\n",
            "Epoch 00017: val_accuracy improved from 0.77444 to 0.77454, saving model to /content/drive/MyDrive/Machine_learning_Project/Input_Output_Age/Output/cnn_log/age_model_checkpoint.h5\n",
            "Epoch 18/20\n",
            "3663/3663 [==============================] - 286s 78ms/step - loss: 0.3305 - accuracy: 0.8649 - val_loss: 0.6880 - val_accuracy: 0.7806\n",
            "\n",
            "Epoch 00018: val_accuracy improved from 0.77454 to 0.78061, saving model to /content/drive/MyDrive/Machine_learning_Project/Input_Output_Age/Output/cnn_log/age_model_checkpoint.h5\n",
            "Epoch 19/20\n",
            "3663/3663 [==============================] - 286s 78ms/step - loss: 0.3139 - accuracy: 0.8719 - val_loss: 0.6968 - val_accuracy: 0.7835\n",
            "\n",
            "Epoch 00019: val_accuracy improved from 0.78061 to 0.78350, saving model to /content/drive/MyDrive/Machine_learning_Project/Input_Output_Age/Output/cnn_log/age_model_checkpoint.h5\n",
            "Epoch 20/20\n",
            "3663/3663 [==============================] - 289s 79ms/step - loss: 0.3077 - accuracy: 0.8754 - val_loss: 0.6608 - val_accuracy: 0.7988\n",
            "\n",
            "Epoch 00020: val_accuracy improved from 0.78350 to 0.79883, saving model to /content/drive/MyDrive/Machine_learning_Project/Input_Output_Age/Output/cnn_log/age_model_checkpoint.h5\n"
          ]
        }
      ],
      "source": [
        "final_cnn_history = final_cnn.fit(train_aug_dataset,\n",
        "                                  batch_size=64,\n",
        "                                  validation_data=test_dataset,\n",
        "                                  epochs=20,\n",
        "                                  callbacks=[tensorboard, checkpoint],\n",
        "                                  shuffle=False # to reduce randomness and increase reproducibility\n",
        "                                 )"
      ]
    },
    {
      "cell_type": "markdown",
      "source": [
        "# Checking Model Performance"
      ],
      "metadata": {
        "id": "c_wkZ7KAMGbj"
      }
    },
    {
      "cell_type": "code",
      "source": [
        "train_loss = final_cnn_history.history['loss']\n",
        "test_loss = final_cnn_history.history['val_loss']\n",
        "train_accuracy = final_cnn_history.history['accuracy']\n",
        "test_accuracy = final_cnn_history.history['val_accuracy']"
      ],
      "metadata": {
        "id": "vbIHTLdqRAJL"
      },
      "execution_count": null,
      "outputs": []
    },
    {
      "cell_type": "markdown",
      "source": [
        "Plotting a line chart to visualize the loss and accuracy values by epochs."
      ],
      "metadata": {
        "id": "v3fJEjFA0N9n"
      }
    },
    {
      "cell_type": "code",
      "source": [
        "fig, ax = plt.subplots(ncols=2, figsize=(15,7))\n",
        "\n",
        "ax = ax.ravel()\n",
        "\n",
        "ax[0].plot(train_loss, label='Train Loss', color='royalblue', marker='o', markersize=5)\n",
        "ax[0].plot(test_loss, label='Test Loss', color = 'orangered', marker='o', markersize=5)\n",
        "\n",
        "ax[0].set_xlabel('Epochs', fontsize=14)\n",
        "ax[0].set_ylabel('Categorical Crossentropy', fontsize=14)\n",
        "\n",
        "ax[0].legend(fontsize=14)\n",
        "ax[0].tick_params(axis='both', labelsize=12)\n",
        "\n",
        "ax[1].plot(train_accuracy, label='Train Accuracy', color='royalblue', marker='o', markersize=5)\n",
        "ax[1].plot(test_accuracy, label='Test Accuracy', color='orangered', marker='o', markersize=5)\n",
        "\n",
        "ax[1].set_xlabel('Epochs', fontsize=14)\n",
        "ax[1].set_ylabel('Accuracy', fontsize=14)\n",
        "\n",
        "ax[1].legend(fontsize=14)\n",
        "ax[1].tick_params(axis='both', labelsize=12)\n",
        "\n",
        "fig.suptitle(x=0.5, y=0.92, t=\"Lineplots showing loss and accuracy of CNN model by epochs\", fontsize=16)\n",
        "\n",
        "# Exporting plot image in PNG format.\n",
        "plt.savefig('/content/drive/My Drive/Machine_learning_Project/Input_Output_Age/Output/cnn_log/final_cnn_loss_accuracy.png', bbox_inches='tight');"
      ],
      "metadata": {
        "id": "Kv3FRjRjRJTr",
        "colab": {
          "base_uri": "https://localhost:8080/",
          "height": 470
        },
        "outputId": "0bf29b27-e1fc-4fe9-f6ed-2e1b3110ded3"
      },
      "execution_count": null,
      "outputs": [
        {
          "output_type": "display_data",
          "data": {
            "text/plain": [
              "<Figure size 1080x504 with 2 Axes>"
            ],
            "image/png": "[encoded data removed]"
          },
          "metadata": {
            "needs_background": "light"
          }
        }
      ]
    },
    {
      "cell_type": "markdown",
      "source": [
        "Evaluating the model on test dataset."
      ],
      "metadata": {
        "id": "xPtWvjjz0TiT"
      }
    },
    {
      "cell_type": "code",
      "source": [
        "final_cnn_score = final_cnn.evaluate(test_dataset, verbose=1)"
      ],
      "metadata": {
        "id": "mNjts3AVRk9M",
        "colab": {
          "base_uri": "https://localhost:8080/"
        },
        "outputId": "6134bc43-408b-44e4-9de6-a4e2b8d6d292"
      },
      "execution_count": null,
      "outputs": [
        {
          "output_type": "stream",
          "name": "stdout",
          "text": [
            "157/157 [==============================] - 5s 30ms/step - loss: 0.6608 - accuracy: 0.7988\n"
          ]
        }
      ]
    },
    {
      "cell_type": "markdown",
      "source": [
        "Printing the relevant score summary."
      ],
      "metadata": {
        "id": "WrCsukoo0Ykj"
      }
    },
    {
      "cell_type": "code",
      "source": [
        "final_cnn_labels = final_cnn.metrics_names\n",
        "print(f'CNN model {final_cnn_labels[0]} \\t\\t= {round(final_cnn_score[0], 3)}')\n",
        "print(f'CNN model {final_cnn_labels[1]} \\t= {round(final_cnn_score[1], 3)}')"
      ],
      "metadata": {
        "id": "lQpItrLJRslV",
        "colab": {
          "base_uri": "https://localhost:8080/"
        },
        "outputId": "32ebb23a-601e-4ddb-c6a0-ef06e1529067"
      },
      "execution_count": null,
      "outputs": [
        {
          "output_type": "stream",
          "name": "stdout",
          "text": [
            "CNN model loss \t\t= 0.661\n",
            "CNN model accuracy \t= 0.799\n"
          ]
        }
      ]
    },
    {
      "cell_type": "markdown",
      "source": [
        "Saving the model as a h5 file for possible use later."
      ],
      "metadata": {
        "id": "7YqHU6-E0dVJ"
      }
    },
    {
      "cell_type": "code",
      "source": [
        "final_cnn.save(f\"/content/drive/My Drive/Machine_learning_Project/Input_Output_Age/Output/2age_model_acc_{round(final_cnn_score[1], 3)}.h5\", save_format='h5')"
      ],
      "metadata": {
        "id": "J7IOyosxSmAA"
      },
      "execution_count": null,
      "outputs": []
    },
    {
      "cell_type": "markdown",
      "source": [
        "# Plotting Confusion Matrix"
      ],
      "metadata": {
        "id": "L8FOTaDLS6mz"
      }
    },
    {
      "cell_type": "markdown",
      "source": [
        "Generating predictions from the model."
      ],
      "metadata": {
        "id": "64aLbY5D0h6U"
      }
    },
    {
      "cell_type": "code",
      "source": [
        "final_cnn_pred = final_cnn.predict(test_dataset)\n",
        "final_cnn_pred = final_cnn_pred.argmax(axis=-1)"
      ],
      "metadata": {
        "id": "esmYFv79S_p5"
      },
      "execution_count": null,
      "outputs": []
    },
    {
      "cell_type": "markdown",
      "source": [
        "Generating a confusion matrix based on above predictions."
      ],
      "metadata": {
        "id": "XUJnk9w80niI"
      }
    },
    {
      "cell_type": "code",
      "source": [
        "conf_mat = confusion_matrix(test_targets_list, final_cnn_pred)\n",
        "conf_mat"
      ],
      "metadata": {
        "id": "DTuVEsSqTCXQ",
        "colab": {
          "base_uri": "https://localhost:8080/"
        },
        "outputId": "e2ffaff3-b64e-463e-b6bf-fcf6bcfa7dbe"
      },
      "execution_count": null,
      "outputs": [
        {
          "output_type": "execute_result",
          "data": {
            "text/plain": [
              "array([[ 922,   29,    0,    1,    0,    2,    4],\n",
              "       [  43,  732,   43,   16,    6,    5,    0],\n",
              "       [   0,   51,  750,   84,   46,    9,    1],\n",
              "       [   0,    5,   64, 1337,  557,   42,    2],\n",
              "       [   2,    4,   24,  283, 2130,  357,    7],\n",
              "       [   2,    1,    2,   13,  123, 1441,   97],\n",
              "       [   0,    1,    0,    1,    4,   90,  713]])"
            ]
          },
          "metadata": {},
          "execution_count": 34
        }
      ]
    },
    {
      "cell_type": "markdown",
      "source": [
        "Defining a function to plot the confusion matrix in a grid for easier visualization."
      ],
      "metadata": {
        "id": "fSNWdYF133Wc"
      }
    },
    {
      "cell_type": "code",
      "source": [
        "def plot_confusion_matrix(cm, classes, normalize=False, title='Confusion Matrix', export_as='confusion_matrix', cmap=plt.cm.Blues):\n",
        "    \"\"\"\n",
        "    This function prints and plots the confusion matrix.\n",
        "    Normalization can be applied by setting `normalize=True`.\n",
        "    \"\"\"\n",
        "    if normalize:\n",
        "        cm = cm.astype('float') / cm.sum(axis=1)[:, np.newaxis]\n",
        "        print(\"Normalized confusion matrix\")\n",
        "    else:\n",
        "        print('Confusion matrix, without normalization')\n",
        "\n",
        "\n",
        "    plt.imshow(cm, interpolation='nearest', cmap=cmap)\n",
        "    plt.title(title, fontsize=16)\n",
        "    plt.colorbar()\n",
        "    tick_marks = np.arange(len(classes))\n",
        "    plt.xticks(tick_marks, classes, rotation=45)\n",
        "    plt.yticks(tick_marks, classes)\n",
        "\n",
        "    fmt = '.2f' if normalize else 'd'\n",
        "    thresh = cm.max() / 2.\n",
        "    for i, j in itertools.product(range(cm.shape[0]), range(cm.shape[1])):\n",
        "        plt.text(j, i, format(cm[i, j], fmt), horizontalalignment=\"center\", color=\"white\" if cm[i, j] > thresh else \"black\")\n",
        "\n",
        "    plt.tight_layout()\n",
        "    plt.ylabel('True labels', fontsize=14)\n",
        "    plt.xlabel('Predicted labels', fontsize=14)\n",
        "\n",
        "    # Exporting plot image in PNG format.\n",
        "    plt.savefig(f'/content/drive/My Drive/Machine_learning_Project/Input_Output_Age/Output/cnn_log/{export_as}.png', bbox_inches='tight');"
      ],
      "metadata": {
        "id": "k45Vagb7TI8L"
      },
      "execution_count": null,
      "outputs": []
    },
    {
      "cell_type": "markdown",
      "source": [
        "Plotting the confusion matrix using the function defined above."
      ],
      "metadata": {
        "id": "ntzwCsXO39H4"
      }
    },
    {
      "cell_type": "code",
      "source": [
        "cm_plot_labels = ['1-2', '3-9', '10-20', '21-27', '28-45', '46-65', '66-116']\n",
        "\n",
        "plt.figure(figsize=(16,8))\n",
        "plot_confusion_matrix(conf_mat, cm_plot_labels, normalize=True,\n",
        "                      title=\"Confusion Matrix based on predictions from CNN model\",\n",
        "                      export_as=\"final_cnn_conf_mat_norm\"\n",
        "                     )\n",
        "\n",
        "plt.show()"
      ],
      "metadata": {
        "id": "efocx0eMTb8n",
        "colab": {
          "base_uri": "https://localhost:8080/",
          "height": 620
        },
        "outputId": "4601c324-1a87-419c-e768-950b91eb48e7"
      },
      "execution_count": null,
      "outputs": [
        {
          "output_type": "stream",
          "name": "stdout",
          "text": [
            "Normalized confusion matrix\n"
          ]
        },
        {
          "output_type": "display_data",
          "data": {
            "text/plain": [
              "<Figure size 1152x576 with 2 Axes>"
            ],
            "image/png": "[encoded data removed]"
          },
          "metadata": {
            "needs_background": "light"
          }
        }
      ]
    }
  ],
  "metadata": {
    "accelerator": "GPU",
    "colab": {
      "provenance": [],
      "include_colab_link": true
    },
    "kernelspec": {
      "display_name": "Python 3",
      "name": "python3"
    },
    "language_info": {
      "name": "python"
    }
  },
  "nbformat": 4,
  "nbformat_minor": 0
}